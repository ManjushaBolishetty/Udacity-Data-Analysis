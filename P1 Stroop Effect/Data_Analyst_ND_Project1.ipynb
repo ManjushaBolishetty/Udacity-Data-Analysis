{
 "cells": [
  {
   "cell_type": "markdown",
   "metadata": {},
   "source": [
    "## P1: Stroop Effect\n",
    "Tom Hrabchak  <br>\n",
    "November 2015\n",
    "\n",
    "### Introduction\n",
    "\n",
    "In a Stroop task, participants are presented with a list of words, with each word displayed in a color of ink. The participant’s task is to say out loud the color of the ink in which the word is printed. The task has two conditions: a congruent words condition, and an incongruent words condition. In the congruent words condition, the words being displayed are color words whose names match the colors in which they are printed. In the incongruent words condition, the words displayed are color words whose names do not match the colors in which they are printed. In each case, we measure the time it takes to name the ink colors in equally-sized lists. Each participant will go through and record a time from each condition.\n",
    "\n",
    "The following image demonstrates both conditions. (\"Stroop effect memory test\") The first line shows the congruent words condition. The second line shows the incongruent words condition.\n",
    "<img style=\"float: center;\" src=\"https://upload.wikimedia.org/wikipedia/commons/f/fe/Stroop_effect_memory_test.png\">\n",
    "\n",
    "### Method\n",
    "\n",
    "#### Design\n",
    "\n",
    "In this study, we will be measuring the time in seconds it takes to name ink colors in equally sized lists for each participant in the two conditions. Our independent variable is the type of condition applied to the student, either the congruent condition or the incongruent condition. Our dependent variable is the time in seconds that it takes for the participant to name the ink colors in the list.\n",
    "\n",
    "To analyze our hypothesis we will use a dependent samples t-test, also known as a paired t-test. Each participant will perform under two conditions, the congruent condition and incongruent condition.  Our goal is to determine if the mean difference between the two conditions is significantly different from 0.\n",
    "\n",
    "Although we have an intuitive sense that the effect will cause increased times for the incongruent condition group, we will use a two tailed test in case our intuition is incorrect. \n",
    "\n",
    "We will use $\\alpha = .05 $ to determine statistical significance.\n",
    "\n",
    "#### Hypothesis\n",
    "\n",
    "We want to determine if the mean difference between the two conditions is statistically significant. Therefore we will take the following as our hypothesis:\n",
    "\n",
    "\\begin{equation}\n",
    "H_0:\\mu_D = \\mu_2 - \\mu_1 = 0\n",
    "\\end{equation}\n",
    "\\begin{equation}\n",
    "H_a:\\mu_D = \\mu_2 - \\mu_1 \\neq 0\n",
    "\\end{equation}\n",
    "\n",
    "where $\\mu_1$ is the mean of the congruent condition, $\\mu_2$ is the mean of the incongruent condition, and $\\mu_D$ is the mean difference between the two conditions. If $\\mu_D$ is significantly greater than 0, we can say that the incongruent condition resulted in longer times than the congruent condition. Likewise, if $\\mu_D$ is significantly less than 0, we can say that the incongruent condition resulted in shorter times than the congruent condition.\n",
    "\n",
    "### Results\n",
    "\n",
    "Using $\\alpha = .05$, a dependent samples t test was conducted to evaluate if the time to recite the colors of a set sized list of words differed significantly for participants between two conditions. The results indicated that the incongruent condition ($\\mu_2 = 22.02$, $\\sigma_2 = 4.80$) took particants significantly longer to recite than the congruent condition ($\\mu_1 = 14.05$, $\\sigma_1 = 3.56$), with $t(23) = 8.02$, $p < .01$, two tailed, $d = 1.64$. The 95% confidence interval for the mean difference between the two conditions was $95\\% CI = (5.97,9.96)$.\n",
    "\n",
    "### Analysis\n",
    "\n",
    "In the first table (*Descriptive statistics of the two conditions*) we  compare descriptive statistics of both conditions directly. We can see that the mean of the incongruent condition and  the median of the incongruent condition are both greater than the mean of the congruent condition and  the median of the congruent condition. Additionally we can see that the standard deviation of the incongruent condition is greater than the standard deviation of the congruent condition. This can also be viewed as a box plot (*Box Plot of Both Conditions*). The box plot shows that the incongruent condition has two outliers, in which the two outlier participants took unusually longer than other participants in the incongruent condition. The result of both conditions is shown as a histogram in *Histogram of Both Conditions*, which displays a uniform right shift from the congruent condition to the incongruent condtion.\n",
    "\n",
    "The second table (*Descriptive statistics of the difference*) shows information on the paired difference of the two conditions. We can see that the mean difference between the incongruent condition and congruent condition was 7.96, meaning that on average the incongruent condition resulted in longer times than the congruent condition. The box plot of this information is shown in *Box Plot of the Difference*. In the *Histogram of the Difference*, the shape of the mean difference distribution is unclear and could be made clearer with more samples.\n",
    "\n",
    "By performing our dependent samples t test, we found that the difference between the congruent and incongruent conditions was statistically significant. The test produced a t-statistic of 8.02 and a p-value of less than .01. Because we took our alpha as .05, and our p-value is less than alpha, we reject the null hypothesis that there is no difference between the incongruent and congruent conditions. Instead we accept the alternative hypothesis as it has been shown with above 95% confidence that there is a significant statistical difference between the congruent and incongruent conditions. This result aligns with our intuition that the incongruent condition would result in longer times than the congruent condition.\n",
    "\n",
    "A potential explanation for the Stroop Effect is that there is a perceptual association of the text based image with it's color, and that association causes a delayed reaction in the incongruent condition. To further explore this explanation, it would be interesting to find if this effect extended to images or drawings other than text based images. We could test if drawings of animals or drawings of scenes that we traditionally associate with color (like a fire or an ice cube), results in a similar outcome to that of text based images. By performing these tests, we could create an index of our perceptual association of types of images with their color. \n",
    "\n",
    "### Conclusion\n",
    "\n",
    "In conclusion, by performing a dependent samples t test, we found that there is a significant statistical difference in the time it takes participants to recite colors from a set sized list between the congruent and incongruent conditions. By performing this study on a more generalized range of images, we could potentially further enhance our understanding of the implications of the Stroop Effect. \n",
    "\n",
    "### References\n",
    "\n",
    "Stroop effect memory test. (2013, November 13). Retrieved November 6, 2015, from https://commons.wikimedia.org/wiki/File:Stroop_effect_memory_test.png"
   ]
  },
  {
   "cell_type": "markdown",
   "metadata": {},
   "source": [
    "### Appendix"
   ]
  },
  {
   "cell_type": "code",
   "execution_count": 1,
   "metadata": {
    "collapsed": false
   },
   "outputs": [],
   "source": [
    "# Import Libraries \n",
    "from scipy import stats\n",
    "import pandas as pd\n",
    "import matplotlib.pyplot as plt\n",
    "plt.style.use('ggplot')\n",
    "\n",
    "# Enable inline viewing of graphs\n",
    "%matplotlib inline\n",
    "\n",
    "# Load data from csv file\n",
    "path = 'https://raw.githubusercontent.com/thrabchak/Udacity-Data-Analysis/master/P1%20Stroop%20Effect/stroopdata.csv'\n",
    "\n",
    "# Parse csv into pandas data structures\n",
    "dataFrame = pd.read_csv(path)\n",
    "congruentSeries = dataFrame['Congruent']\n",
    "incongruentSeries = dataFrame['Incongruent']\n",
    "\n",
    "# Create a Series and DataFrame for the difference between the two conditions\n",
    "differenceSeries = incongruentSeries - congruentSeries\n",
    "differenceDataFrame = pd.DataFrame({\"Difference\":differenceSeries})"
   ]
  },
  {
   "cell_type": "code",
   "execution_count": 2,
   "metadata": {
    "collapsed": false
   },
   "outputs": [
    {
     "data": {
      "text/html": [
       "<div>\n",
       "<table border=\"1\" class=\"dataframe\">\n",
       "  <thead>\n",
       "    <tr style=\"text-align: right;\">\n",
       "      <th></th>\n",
       "      <th>Congruent</th>\n",
       "      <th>Incongruent</th>\n",
       "    </tr>\n",
       "  </thead>\n",
       "  <tbody>\n",
       "    <tr>\n",
       "      <th>count</th>\n",
       "      <td>24.000000</td>\n",
       "      <td>24.000000</td>\n",
       "    </tr>\n",
       "    <tr>\n",
       "      <th>mean</th>\n",
       "      <td>14.051125</td>\n",
       "      <td>22.015917</td>\n",
       "    </tr>\n",
       "    <tr>\n",
       "      <th>std</th>\n",
       "      <td>3.559358</td>\n",
       "      <td>4.797057</td>\n",
       "    </tr>\n",
       "    <tr>\n",
       "      <th>min</th>\n",
       "      <td>8.630000</td>\n",
       "      <td>15.687000</td>\n",
       "    </tr>\n",
       "    <tr>\n",
       "      <th>25%</th>\n",
       "      <td>11.895250</td>\n",
       "      <td>18.716750</td>\n",
       "    </tr>\n",
       "    <tr>\n",
       "      <th>50%</th>\n",
       "      <td>14.356500</td>\n",
       "      <td>21.017500</td>\n",
       "    </tr>\n",
       "    <tr>\n",
       "      <th>75%</th>\n",
       "      <td>16.200750</td>\n",
       "      <td>24.051500</td>\n",
       "    </tr>\n",
       "    <tr>\n",
       "      <th>max</th>\n",
       "      <td>22.328000</td>\n",
       "      <td>35.255000</td>\n",
       "    </tr>\n",
       "  </tbody>\n",
       "</table>\n",
       "</div>"
      ],
      "text/plain": [
       "       Congruent  Incongruent\n",
       "count  24.000000    24.000000\n",
       "mean   14.051125    22.015917\n",
       "std     3.559358     4.797057\n",
       "min     8.630000    15.687000\n",
       "25%    11.895250    18.716750\n",
       "50%    14.356500    21.017500\n",
       "75%    16.200750    24.051500\n",
       "max    22.328000    35.255000"
      ]
     },
     "execution_count": 2,
     "metadata": {},
     "output_type": "execute_result"
    }
   ],
   "source": [
    "# Descriptive statistics of the two conditions\n",
    "dataFrame.describe()"
   ]
  },
  {
   "cell_type": "code",
   "execution_count": 3,
   "metadata": {
    "collapsed": false
   },
   "outputs": [
    {
     "data": {
      "text/html": [
       "<div>\n",
       "<table border=\"1\" class=\"dataframe\">\n",
       "  <thead>\n",
       "    <tr style=\"text-align: right;\">\n",
       "      <th></th>\n",
       "      <th>Difference</th>\n",
       "    </tr>\n",
       "  </thead>\n",
       "  <tbody>\n",
       "    <tr>\n",
       "      <th>count</th>\n",
       "      <td>24.000000</td>\n",
       "    </tr>\n",
       "    <tr>\n",
       "      <th>mean</th>\n",
       "      <td>7.964792</td>\n",
       "    </tr>\n",
       "    <tr>\n",
       "      <th>std</th>\n",
       "      <td>4.864827</td>\n",
       "    </tr>\n",
       "    <tr>\n",
       "      <th>min</th>\n",
       "      <td>1.950000</td>\n",
       "    </tr>\n",
       "    <tr>\n",
       "      <th>25%</th>\n",
       "      <td>3.645500</td>\n",
       "    </tr>\n",
       "    <tr>\n",
       "      <th>50%</th>\n",
       "      <td>7.666500</td>\n",
       "    </tr>\n",
       "    <tr>\n",
       "      <th>75%</th>\n",
       "      <td>10.258500</td>\n",
       "    </tr>\n",
       "    <tr>\n",
       "      <th>max</th>\n",
       "      <td>21.919000</td>\n",
       "    </tr>\n",
       "  </tbody>\n",
       "</table>\n",
       "</div>"
      ],
      "text/plain": [
       "       Difference\n",
       "count   24.000000\n",
       "mean     7.964792\n",
       "std      4.864827\n",
       "min      1.950000\n",
       "25%      3.645500\n",
       "50%      7.666500\n",
       "75%     10.258500\n",
       "max     21.919000"
      ]
     },
     "execution_count": 3,
     "metadata": {},
     "output_type": "execute_result"
    }
   ],
   "source": [
    "# Descriptive statistics of the difference\n",
    "differenceDataFrame.describe()"
   ]
  },
  {
   "cell_type": "code",
   "execution_count": 4,
   "metadata": {
    "collapsed": false
   },
   "outputs": [
    {
     "name": "stdout",
     "output_type": "stream",
     "text": [
      "t-statistic = 8.02\n",
      "p-value = 0.00000004\n"
     ]
    }
   ],
   "source": [
    "# Perform calculations for a dependent samples t test\n",
    "ttestResults = stats.ttest_rel(incongruentSeries, congruentSeries)\n",
    "tstatistic = ttestResults[0]\n",
    "pvalue = ttestResults[1]\n",
    "print \"t-statistic = \" + '%.2f' % tstatistic\n",
    "print \"p-value = \" + '%.8f' % pvalue"
   ]
  },
  {
   "cell_type": "code",
   "execution_count": 5,
   "metadata": {
    "collapsed": false
   },
   "outputs": [
    {
     "data": {
      "image/png": "[encoded data removed]",
      "text/plain": [
       "<matplotlib.figure.Figure at 0x16e5cc50>"
      ]
     },
     "metadata": {},
     "output_type": "display_data"
    }
   ],
   "source": [
    "# Box plots of the two conditions\n",
    "title = 'Box Plot of Both Conditions'\n",
    "kind = 'box'\n",
    "dataFrame.plot(title=title, kind=kind)\n",
    "ylabel = plt.ylabel('Time (seconds)')"
   ]
  },
  {
   "cell_type": "code",
   "execution_count": 6,
   "metadata": {
    "collapsed": false
   },
   "outputs": [
    {
     "data": {
      "image/png": "[encoded data removed]",
      "text/plain": [
       "<matplotlib.figure.Figure at 0x16e5cb38>"
      ]
     },
     "metadata": {},
     "output_type": "display_data"
    }
   ],
   "source": [
    "# Box plots of the difference between the two conditions\n",
    "title = 'Box Plot of the Difference'\n",
    "kind = 'box'\n",
    "differenceDataFrame.plot(title=title, kind=kind)\n",
    "ylabel = plt.ylabel('Time (seconds)')"
   ]
  },
  {
   "cell_type": "code",
   "execution_count": 7,
   "metadata": {
    "collapsed": false
   },
   "outputs": [
    {
     "data": {
      "image/png": "[encoded data removed]",
      "text/plain": [
       "<matplotlib.figure.Figure at 0x17a952e8>"
      ]
     },
     "metadata": {},
     "output_type": "display_data"
    }
   ],
   "source": [
    "# Histogram of the Congruent Condition\n",
    "title = 'Histogram of the Congruent Condition'\n",
    "kind = 'hist'\n",
    "plot = congruentSeries.plot(title=title, kind=kind, bins=7)\n",
    "xLabel = plt.xlabel('Time (seconds)')\n",
    "window = plt.axis([0,40,0,8])"
   ]
  },
  {
   "cell_type": "code",
   "execution_count": 8,
   "metadata": {
    "collapsed": false
   },
   "outputs": [
    {
     "data": {
      "image/png": "[encoded data removed]",
      "text/plain": [
       "<matplotlib.figure.Figure at 0x17d456a0>"
      ]
     },
     "metadata": {},
     "output_type": "display_data"
    }
   ],
   "source": [
    "# Histogram of the Incongruent Condition\n",
    "title = 'Histogram of the Incongruent Condition'\n",
    "kind = 'hist'\n",
    "plot = incongruentSeries.plot(title=title, kind=kind)\n",
    "xLabel = plt.xlabel('Time (seconds)')\n",
    "window = plt.axis([0,40,0,8])"
   ]
  },
  {
   "cell_type": "code",
   "execution_count": 9,
   "metadata": {
    "collapsed": false
   },
   "outputs": [
    {
     "data": {
      "image/png": "[encoded data removed]",
      "text/plain": [
       "<matplotlib.figure.Figure at 0x17f7ed68>"
      ]
     },
     "metadata": {},
     "output_type": "display_data"
    }
   ],
   "source": [
    "# Histogram of Both Conditions\n",
    "title = 'Histogram of Both Conditions'\n",
    "kind = 'hist'\n",
    "alpha = 0.5\n",
    "plot = dataFrame.plot(title=title, kind=kind, alpha=alpha, bins=12)\n",
    "xLabel = plt.xlabel('Time (seconds)')\n",
    "window = plt.axis([0,40,0,8])"
   ]
  },
  {
   "cell_type": "code",
   "execution_count": 10,
   "metadata": {
    "collapsed": false
   },
   "outputs": [
    {
     "data": {
      "image/png": "[encoded data removed]",
      "text/plain": [
       "<matplotlib.figure.Figure at 0x181edef0>"
      ]
     },
     "metadata": {},
     "output_type": "display_data"
    }
   ],
   "source": [
    "# Histogram of the Difference between the Two Conditions\n",
    "title = 'Histogram of the Difference'\n",
    "kind = 'hist'\n",
    "plot = differenceDataFrame.plot(title=title, kind=kind, bins=15)\n",
    "xLabel = plt.xlabel('Time (seconds)')\n",
    "window = plt.axis([0,25,0,8])"
   ]
  },
  {
   "cell_type": "code",
   "execution_count": 11,
   "metadata": {
    "collapsed": false
   },
   "outputs": [
    {
     "data": {
      "text/html": [
       "<div>\n",
       "<table border=\"1\" class=\"dataframe\">\n",
       "  <thead>\n",
       "    <tr style=\"text-align: right;\">\n",
       "      <th></th>\n",
       "      <th>Congruent</th>\n",
       "      <th>Incongruent</th>\n",
       "    </tr>\n",
       "  </thead>\n",
       "  <tbody>\n",
       "    <tr>\n",
       "      <th>0</th>\n",
       "      <td>12.079</td>\n",
       "      <td>19.278</td>\n",
       "    </tr>\n",
       "    <tr>\n",
       "      <th>1</th>\n",
       "      <td>16.791</td>\n",
       "      <td>18.741</td>\n",
       "    </tr>\n",
       "    <tr>\n",
       "      <th>2</th>\n",
       "      <td>9.564</td>\n",
       "      <td>21.214</td>\n",
       "    </tr>\n",
       "    <tr>\n",
       "      <th>3</th>\n",
       "      <td>8.630</td>\n",
       "      <td>15.687</td>\n",
       "    </tr>\n",
       "    <tr>\n",
       "      <th>4</th>\n",
       "      <td>14.669</td>\n",
       "      <td>22.803</td>\n",
       "    </tr>\n",
       "    <tr>\n",
       "      <th>5</th>\n",
       "      <td>12.238</td>\n",
       "      <td>20.878</td>\n",
       "    </tr>\n",
       "    <tr>\n",
       "      <th>6</th>\n",
       "      <td>14.692</td>\n",
       "      <td>24.572</td>\n",
       "    </tr>\n",
       "    <tr>\n",
       "      <th>7</th>\n",
       "      <td>8.987</td>\n",
       "      <td>17.394</td>\n",
       "    </tr>\n",
       "    <tr>\n",
       "      <th>8</th>\n",
       "      <td>9.401</td>\n",
       "      <td>20.762</td>\n",
       "    </tr>\n",
       "    <tr>\n",
       "      <th>9</th>\n",
       "      <td>14.480</td>\n",
       "      <td>26.282</td>\n",
       "    </tr>\n",
       "    <tr>\n",
       "      <th>10</th>\n",
       "      <td>22.328</td>\n",
       "      <td>24.524</td>\n",
       "    </tr>\n",
       "    <tr>\n",
       "      <th>11</th>\n",
       "      <td>15.298</td>\n",
       "      <td>18.644</td>\n",
       "    </tr>\n",
       "    <tr>\n",
       "      <th>12</th>\n",
       "      <td>15.073</td>\n",
       "      <td>17.510</td>\n",
       "    </tr>\n",
       "    <tr>\n",
       "      <th>13</th>\n",
       "      <td>16.929</td>\n",
       "      <td>20.330</td>\n",
       "    </tr>\n",
       "    <tr>\n",
       "      <th>14</th>\n",
       "      <td>18.200</td>\n",
       "      <td>35.255</td>\n",
       "    </tr>\n",
       "    <tr>\n",
       "      <th>15</th>\n",
       "      <td>12.130</td>\n",
       "      <td>22.158</td>\n",
       "    </tr>\n",
       "    <tr>\n",
       "      <th>16</th>\n",
       "      <td>18.495</td>\n",
       "      <td>25.139</td>\n",
       "    </tr>\n",
       "    <tr>\n",
       "      <th>17</th>\n",
       "      <td>10.639</td>\n",
       "      <td>20.429</td>\n",
       "    </tr>\n",
       "    <tr>\n",
       "      <th>18</th>\n",
       "      <td>11.344</td>\n",
       "      <td>17.425</td>\n",
       "    </tr>\n",
       "    <tr>\n",
       "      <th>19</th>\n",
       "      <td>12.369</td>\n",
       "      <td>34.288</td>\n",
       "    </tr>\n",
       "    <tr>\n",
       "      <th>20</th>\n",
       "      <td>12.944</td>\n",
       "      <td>23.894</td>\n",
       "    </tr>\n",
       "    <tr>\n",
       "      <th>21</th>\n",
       "      <td>14.233</td>\n",
       "      <td>17.960</td>\n",
       "    </tr>\n",
       "    <tr>\n",
       "      <th>22</th>\n",
       "      <td>19.710</td>\n",
       "      <td>22.058</td>\n",
       "    </tr>\n",
       "    <tr>\n",
       "      <th>23</th>\n",
       "      <td>16.004</td>\n",
       "      <td>21.157</td>\n",
       "    </tr>\n",
       "  </tbody>\n",
       "</table>\n",
       "</div>"
      ],
      "text/plain": [
       "    Congruent  Incongruent\n",
       "0      12.079       19.278\n",
       "1      16.791       18.741\n",
       "2       9.564       21.214\n",
       "3       8.630       15.687\n",
       "4      14.669       22.803\n",
       "5      12.238       20.878\n",
       "6      14.692       24.572\n",
       "7       8.987       17.394\n",
       "8       9.401       20.762\n",
       "9      14.480       26.282\n",
       "10     22.328       24.524\n",
       "11     15.298       18.644\n",
       "12     15.073       17.510\n",
       "13     16.929       20.330\n",
       "14     18.200       35.255\n",
       "15     12.130       22.158\n",
       "16     18.495       25.139\n",
       "17     10.639       20.429\n",
       "18     11.344       17.425\n",
       "19     12.369       34.288\n",
       "20     12.944       23.894\n",
       "21     14.233       17.960\n",
       "22     19.710       22.058\n",
       "23     16.004       21.157"
      ]
     },
     "execution_count": 11,
     "metadata": {},
     "output_type": "execute_result"
    }
   ],
   "source": [
    "# Display DataFrame generated from csv\n",
    "dataFrame"
   ]
  },
  {
   "cell_type": "code",
   "execution_count": 12,
   "metadata": {
    "collapsed": false
   },
   "outputs": [
    {
     "data": {
      "text/html": [
       "<div>\n",
       "<table border=\"1\" class=\"dataframe\">\n",
       "  <thead>\n",
       "    <tr style=\"text-align: right;\">\n",
       "      <th></th>\n",
       "      <th>Difference</th>\n",
       "    </tr>\n",
       "  </thead>\n",
       "  <tbody>\n",
       "    <tr>\n",
       "      <th>0</th>\n",
       "      <td>7.199</td>\n",
       "    </tr>\n",
       "    <tr>\n",
       "      <th>1</th>\n",
       "      <td>1.950</td>\n",
       "    </tr>\n",
       "    <tr>\n",
       "      <th>2</th>\n",
       "      <td>11.650</td>\n",
       "    </tr>\n",
       "    <tr>\n",
       "      <th>3</th>\n",
       "      <td>7.057</td>\n",
       "    </tr>\n",
       "    <tr>\n",
       "      <th>4</th>\n",
       "      <td>8.134</td>\n",
       "    </tr>\n",
       "    <tr>\n",
       "      <th>5</th>\n",
       "      <td>8.640</td>\n",
       "    </tr>\n",
       "    <tr>\n",
       "      <th>6</th>\n",
       "      <td>9.880</td>\n",
       "    </tr>\n",
       "    <tr>\n",
       "      <th>7</th>\n",
       "      <td>8.407</td>\n",
       "    </tr>\n",
       "    <tr>\n",
       "      <th>8</th>\n",
       "      <td>11.361</td>\n",
       "    </tr>\n",
       "    <tr>\n",
       "      <th>9</th>\n",
       "      <td>11.802</td>\n",
       "    </tr>\n",
       "    <tr>\n",
       "      <th>10</th>\n",
       "      <td>2.196</td>\n",
       "    </tr>\n",
       "    <tr>\n",
       "      <th>11</th>\n",
       "      <td>3.346</td>\n",
       "    </tr>\n",
       "    <tr>\n",
       "      <th>12</th>\n",
       "      <td>2.437</td>\n",
       "    </tr>\n",
       "    <tr>\n",
       "      <th>13</th>\n",
       "      <td>3.401</td>\n",
       "    </tr>\n",
       "    <tr>\n",
       "      <th>14</th>\n",
       "      <td>17.055</td>\n",
       "    </tr>\n",
       "    <tr>\n",
       "      <th>15</th>\n",
       "      <td>10.028</td>\n",
       "    </tr>\n",
       "    <tr>\n",
       "      <th>16</th>\n",
       "      <td>6.644</td>\n",
       "    </tr>\n",
       "    <tr>\n",
       "      <th>17</th>\n",
       "      <td>9.790</td>\n",
       "    </tr>\n",
       "    <tr>\n",
       "      <th>18</th>\n",
       "      <td>6.081</td>\n",
       "    </tr>\n",
       "    <tr>\n",
       "      <th>19</th>\n",
       "      <td>21.919</td>\n",
       "    </tr>\n",
       "    <tr>\n",
       "      <th>20</th>\n",
       "      <td>10.950</td>\n",
       "    </tr>\n",
       "    <tr>\n",
       "      <th>21</th>\n",
       "      <td>3.727</td>\n",
       "    </tr>\n",
       "    <tr>\n",
       "      <th>22</th>\n",
       "      <td>2.348</td>\n",
       "    </tr>\n",
       "    <tr>\n",
       "      <th>23</th>\n",
       "      <td>5.153</td>\n",
       "    </tr>\n",
       "  </tbody>\n",
       "</table>\n",
       "</div>"
      ],
      "text/plain": [
       "    Difference\n",
       "0        7.199\n",
       "1        1.950\n",
       "2       11.650\n",
       "3        7.057\n",
       "4        8.134\n",
       "5        8.640\n",
       "6        9.880\n",
       "7        8.407\n",
       "8       11.361\n",
       "9       11.802\n",
       "10       2.196\n",
       "11       3.346\n",
       "12       2.437\n",
       "13       3.401\n",
       "14      17.055\n",
       "15      10.028\n",
       "16       6.644\n",
       "17       9.790\n",
       "18       6.081\n",
       "19      21.919\n",
       "20      10.950\n",
       "21       3.727\n",
       "22       2.348\n",
       "23       5.153"
      ]
     },
     "execution_count": 12,
     "metadata": {},
     "output_type": "execute_result"
    }
   ],
   "source": [
    "# Display DataFrame of the difference between the two conditions\n",
    "differenceDataFrame"
   ]
  },
  {
   "cell_type": "markdown",
   "metadata": {},
   "source": [
    "### Final Note\n",
    "\n",
    "This report is a P1: Test a Perceptual Phenomenon submission for a Udacity Data Analysis Nanodegree. The introduction of this report is from the background section of the instructions for this report, which can be found [here](https://docs.google.com/document/d/1-OkpZLjG_kX9J6LIQ5IltsqMzVWjh36QpnP2RYpVdPU/pub?embedded=True). The dataset for this report was provided by udacity and can be found [here](https://www.google.com/url?q=https://drive.google.com/file/d/0B9Yf01UaIbUgQXpYb2NhZ29yX1U/view?usp%3Dsharing&sa=D&usg=AFQjCNGAjbK9VYD5GsQ8c_iRT9zH9QdOVg). To learn more about Udacity and their online classes go to http://www.udacity.com."
   ]
  }
 ],
 "metadata": {
  "kernelspec": {
   "display_name": "Python 2",
   "language": "python",
   "name": "python2"
  },
  "language_info": {
   "codemirror_mode": {
    "name": "ipython",
    "version": 2
   },
   "file_extension": ".py",
   "mimetype": "text/x-python",
   "name": "python",
   "nbconvert_exporter": "python",
   "pygments_lexer": "ipython2",
   "version": "2.7.10"
  }
 },
 "nbformat": 4,
 "nbformat_minor": 0
}
