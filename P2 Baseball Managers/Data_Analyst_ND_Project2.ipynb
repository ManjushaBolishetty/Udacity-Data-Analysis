{
 "cells": [
  {
   "cell_type": "markdown",
   "metadata": {},
   "source": [
    "### P2: Baseball Managers\n",
    "Thomas Hrabchak <br>\n",
    "February 2016"
   ]
  },
  {
   "cell_type": "markdown",
   "metadata": {},
   "source": [
    "### Introduction\n",
    "Major League Baseball (MLB) is known for its all-stars making multi million dollar salaries and hitting towering homeruns. Often overlooked is the manager, who rarely leaves the duggout except to argue with an umpire, throw his hat, and get ejected from the game. Some managers are well known, have winning teams, and make it into the hall of fame, many others are forgotten by fans. This project will explore the role of the manager on an MLB team in terms of team statistics.\n",
    "\n",
    "Behind the scenes there are many decisions being made by the manager every pitch, such as the positioning of fielders, preparation of a relief pitcher, or if the batter should try to bunt. These decisions do affect the outcome of the game and cumulatively the season. However, the results of managerial decisions manifest themselves in the performance of the players which makes directly measuring the performance of the manager difficult. \n",
    "\n",
    "Additionally, managers have responsibilities that are unrelated to or indirectly related to winning games, such as interacting with the media. This paper will not take into consideration skills which do not result in wins for the team, although extraneous, non-baseball related skills are relevant to assessing the overall performance of managers.\n",
    "\n",
    "#### Background\n",
    "Methods for assessing the performance of baseball managers has been proposed in several academic papers. The most popular method is James's (1986) \"Pythagorean theorem\", in which a manager's performance is assessed using an estimation of expected wins. Additionally, Bradbury (2006) assesses a manager in terms of impact on player performance.\n",
    "\n",
    "In 2014, Randy Silvers and Raul Susmel explored the compensation of managers in their paper \"Compensation of a Manager: The Case of Major League Baseball\". Instead of attempting to directly assess the performance of a manager using a metric derived from baseball statistics, they hypothesized that the economic market of baseball managers would result in the best performing managers (highest team winning percentage and number of playoff appearances) being compensated the highest salaries. The results of their analysis showed that a manager's past performance affects the manager's current salary, but the manager's current salary does not affect the current performance of the manager's team. Silvers and Susmel note that in efficient markets the compensation of a manager is a sufficient measure of his expected productivity but has been shown to be insignificant in predicting any team performance metric. This implies that the market of MLB managers is not efficient.\n",
    "\n",
    "Based on Silvers and Susmel and the previous papers, it seems as if there is still room for improvement in understanding the role of an MLB manager and the impact they have on the performance of their team."
   ]
  },
  {
   "cell_type": "markdown",
   "metadata": {},
   "source": [
    "### Questions\n",
    "There are many possible questions about MLB managers, assesing their performance, and assessing their impact on their team. To limit the scope of this paper, only the following question will be explored:\n",
    "\n",
    "- When a manager transfers teams, does the relative performance of any team statistic from the manager's previous team transfer to the manager's new team?\n",
    "\n",
    "This question is actionable in terms of a statistical approach and isolates the change to the individual manager. We can generalize this question for individual managers over their entire career and then compare managerial careers based on which team statistic they were best at improving on their team.\n",
    "\n",
    "#### Alternative Questions For Future Exploration\n",
    "Below are other questions which I considered addressing in this paper. However they need further refinement in order to be actionable.\n",
    "- How important is having a good manager to the success of a major league baseball team?\n",
    "- Which, if any, team statistics correlate with the winningest managers?\n",
    "- What are characteristics of managers that make it into the hall of fame?\n",
    "- What are characteristics of managers that have short careers?\n",
    "- Are any managers particularly good in the post season?\n",
    "- Do any team statistics correlate with a long managerial career?\n",
    "- Who is the most recent player manager and what were the circumstances?\n",
    "- Are there any trends in the salaries of managers?\n",
    "- Has a 'bad' manager ever won the world series?"
   ]
  },
  {
   "cell_type": "markdown",
   "metadata": {},
   "source": [
    "### Wrangle\n",
    "The data for this project comes from the 2014 edition of The Lahman Baseball Database. We will need to refine the data from this source to better address our question.\n",
    "\n",
    "As an overview, below is a summary of the steps we will take in the data wrangling phase.\n",
    "1. Import relevant data from The Lahman Baseball Database.\n",
    "2. Appened team statistic relative performance for each team statistic for each year to the teams_df DataFrame.\n",
    "3. Associate manager to team, look only at managers that lasted the full year\n",
    "4. Generate table of manager team transfers\n",
    "5. Average statistics for previous stint and after stint, statistics for previous year stats, after year stats\n",
    "6. Aggregate transfer correlations, using average previous/after statistics, to determine which stats are most correlated to managers"
   ]
  },
  {
   "cell_type": "markdown",
   "metadata": {},
   "source": [
    "#### Import Data\n",
    "This project uses data from 2014 edition of The Lahman Baseball Database, hosted on github."
   ]
  },
  {
   "cell_type": "code",
   "execution_count": 1,
   "metadata": {
    "collapsed": false
   },
   "outputs": [
    {
     "name": "stdout",
     "output_type": "stream",
     "text": [
      "Populating the interactive namespace from numpy and matplotlib\n",
      "Awards Managers: \n",
      "Index([u'playerID', u'awardID', u'yearID', u'lgID', u'tie', u'notes'], dtype='object')\n",
      "Hall of Fame: \n",
      "Index([u'playerID', u'yearid', u'votedBy', u'ballots', u'needed', u'votes',\n",
      "       u'inducted', u'category', u'needed_note'],\n",
      "      dtype='object')\n",
      "Managers: \n",
      "Index([u'playerID', u'yearID', u'teamID', u'lgID', u'inseason', u'G', u'W',\n",
      "       u'L', u'rank', u'plyrMgr'],\n",
      "      dtype='object')\n",
      "Master: \n",
      "Index([u'playerID', u'birthYear', u'birthMonth', u'birthDay', u'birthCountry',\n",
      "       u'birthState', u'birthCity', u'deathYear', u'deathMonth', u'deathDay',\n",
      "       u'deathCountry', u'deathState', u'deathCity', u'nameFirst', u'nameLast',\n",
      "       u'nameGiven', u'weight', u'height', u'bats', u'throws', u'debut',\n",
      "       u'finalGame', u'retroID', u'bbrefID'],\n",
      "      dtype='object')\n",
      "Series Post: \n",
      "Index([u'yearID', u'round', u'teamIDwinner', u'lgIDwinner', u'teamIDloser',\n",
      "       u'lgIDloser', u'wins', u'losses', u'ties'],\n",
      "      dtype='object')\n",
      "Teams: \n",
      "Index([u'yearID', u'lgID', u'teamID', u'franchID', u'divID', u'Rank', u'G',\n",
      "       u'Ghome', u'W', u'L', u'DivWin', u'WCWin', u'LgWin', u'WSWin', u'R',\n",
      "       u'AB', u'H', u'2B', u'3B', u'HR', u'BB', u'SO', u'SB', u'CS', u'HBP',\n",
      "       u'SF', u'RA', u'ER', u'ERA', u'CG', u'SHO', u'SV', u'IPouts', u'HA',\n",
      "       u'HRA', u'BBA', u'SOA', u'E', u'DP', u'FP', u'name', u'park',\n",
      "       u'attendance', u'BPF', u'PPF', u'teamIDBR', u'teamIDlahman45',\n",
      "       u'teamIDretro'],\n",
      "      dtype='object')\n",
      "Teams Franchises: \n",
      "Index([u'franchID', u'franchName', u'active', u'NAassoc'], dtype='object')\n"
     ]
    }
   ],
   "source": [
    "# Import Libraries and Data\n",
    "import pandas as pd\n",
    "import numpy as np\n",
    "import matplotlib.pyplot as plt\n",
    "import collections\n",
    "%pylab inline\n",
    "\n",
    "repository = \"https://raw.githubusercontent.com/thrabchak/Udacity-Data-Analysis/\"\n",
    "folder = \"master/P2%20Baseball%20Managers/data/\"\n",
    "\n",
    "awards_managers_df  = pd.read_csv(repository + folder + \"AwardsManagers.csv\")\n",
    "hall_of_fame_df     = pd.read_csv(repository + folder + \"HallOfFame.csv\")\n",
    "managers_df         = pd.read_csv(repository + folder + \"Managers.csv\")\n",
    "master_df           = pd.read_csv(repository + folder + \"Master.csv\")\n",
    "series_post_df      = pd.read_csv(repository + folder + \"SeriesPost.csv\")\n",
    "teams_df            = pd.read_csv(repository + folder + \"Teams.csv\")\n",
    "teams_franchises_df = pd.read_csv(repository + folder + \"TeamsFranchises.csv\")\n",
    "\n",
    "# Show columns of the imported DataFrames\n",
    "def print_df_columns(show):\n",
    "    \"\"\"Print columns of imported dataframes if 'show' is True.\"\"\"\n",
    "    if show:\n",
    "        print \"Awards Managers: \"\n",
    "        print awards_managers_df.columns\n",
    "        print \"Hall of Fame: \"\n",
    "        print hall_of_fame_df.columns\n",
    "        print \"Managers: \"\n",
    "        print managers_df.columns\n",
    "        print \"Master: \"\n",
    "        print master_df.columns\n",
    "        print \"Series Post: \"\n",
    "        print series_post_df.columns\n",
    "        print \"Teams: \"\n",
    "        print teams_df.columns\n",
    "        print \"Teams Franchises: \"\n",
    "        print teams_franchises_df.columns\n",
    "    \n",
    "print_df_columns(True)"
   ]
  },
  {
   "cell_type": "markdown",
   "metadata": {},
   "source": [
    "#### Team Statistic Overall Relative Performance\n",
    "We want to append the relative statistical performance of teams to the existing teams_df DataFrame.\n",
    "\n",
    "Relative statistical perfomance is a team's performance for a given statistic in respect to all other teams for that year. For example, the team with the most wins in a given year performed the best for that statistic (\"W\") and would be given a relative statistical performance (\"rel_W\") of 1. The team with the second most wins would be given a 2. If two teams have the same value for a given statistic, they will share the same value for relative statistical performance. For example if two teams shared the same number of wins, and that number of wins was the most for that season, both teams would share the relative statistical performance of 1. In this case, the team with the second most number of wins would be given a relative statistical performance of 3, because 2 other teams performed better. The team_stat dictionary contains the information for how a statistic should be ordered, either largest to smallest (True) or smallest to largest (False)."
   ]
  },
  {
   "cell_type": "code",
   "execution_count": 2,
   "metadata": {
    "collapsed": false
   },
   "outputs": [],
   "source": [
    "# Create a dictionary to determine how each statistic should be ordered.\n",
    "# The key is the statistic and the value is True if it should be ordered from\n",
    "# largest to smallest, False if it should be ordered smallest to largest.\n",
    "team_stat = {\n",
    "    # Overall Statistics\n",
    "    'Rank':   True,  # Position in final standings\n",
    "    \"W\":      True,  # Wins\n",
    "    \"L\":      False, # Losses\n",
    "    \n",
    "    # (Sort in reverse alphabetical order)\n",
    "    \"DivWin\": True, # Division Winner (Y or N)\n",
    "    \"WCWin\":  True, # Wild Card Winner (Y or N)\n",
    "    \"LgWin\":  True, # League Champion(Y or N)\n",
    "    \"WSWin\":  True, # World Series Winner (Y or N)\n",
    "    \n",
    "    # Batting Statistics\n",
    "    \"R\":      True,  # Runs scored\n",
    "    \"H\":      True,  # Hits\n",
    "    \"2B\":     True,  # Doubles\n",
    "    \"3B\":     True,  # Triples\n",
    "    \"HR\":     True,  # Homeruns\n",
    "    \"BB\":     True,  # Walks\n",
    "    \"SO\":     False, # Strikeouts\n",
    "    \"SB\":     True,  # Stolen bases\n",
    "    \"CS\":     False, # Caught stealing\n",
    "    \"HBP\":    True,  # Batters hit by pitch\n",
    "    \"SF\":     True,  # Sacrifice flies\n",
    "    \n",
    "    # Pitching Statistics\n",
    "    \"RA\":     False, # Opponents run scored\n",
    "    \"ER\":     False, # Earned runs allowed\n",
    "    \"ERA\":    False, # Earned run average\n",
    "    \"CG\":     True,  # Complete games pitched\n",
    "    \"SHO\":    True,  # Shutouts\n",
    "    \"SV\":     True,  # Saves\n",
    "    \"HA\":     False, # Hits allowed\n",
    "    \"HRA\":    False, # Homeruns allowed\n",
    "    \"BBA\":    False, # Walks allowed\n",
    "    \"SOA\":    True,  # Strikeouts by pitchers\n",
    "    \n",
    "    # Fielding Statistics\n",
    "    \"E\":      False, # Errors\n",
    "    \"DP\":     True,  # Double plays\n",
    "    \"FP\":     True   # Fielding percentage\n",
    "}\n",
    "\n",
    "# Initialize data structure which we will create a DataFrame from\n",
    "def create_data_structure():\n",
    "    \"\"\"Returns the structure for a dictionary with team stats as keys and lists as values\n",
    "       stat -> []\"\"\"\n",
    "    # Create list of columns\n",
    "    columns = ['yearID', 'teamID']\n",
    "    for key in team_stat.keys():\n",
    "        columns.append('rel_' + key)\n",
    "        \n",
    "    # Create 2D array for data\n",
    "    data = {}\n",
    "    for column in columns:\n",
    "        data[column] = []\n",
    "        \n",
    "    return data\n",
    "\n",
    "def team_positions_for_stat(my_teams_df, year, stat):\n",
    "    \"\"\"Returns an ordered dictionary containing the relative positional data for a team's \n",
    "       statistic. The returned dictionary will take the form of:\n",
    "       rel_position -> [stat_value, team1, team2]\n",
    "       Example: {1:[10, BOS], 2:[5, NYY, MIN], 4:[3, MIA], ...}\"\"\"\n",
    "    placement_dict = collections.OrderedDict() # rel_position -> [stat_value, team1, team2]\n",
    "    \n",
    "    # Create an ordered list of teams in this year for this statistic\n",
    "    sorted_df = my_teams_df[my_teams_df.yearID == year].sort_values(stat, \n",
    "                                                         ascending=(not team_stat[stat]))\n",
    "    rel_place = 1\n",
    "    team_counter = 1\n",
    "    placement_dict[1] = [sorted_df.iloc[0][stat], sorted_df.iloc[0].teamID]\n",
    "    for i in range(1, len(sorted_df)):\n",
    "        value = sorted_df.iloc[i][stat]\n",
    "        team = sorted_df.iloc[i].teamID\n",
    "        team_counter += 1\n",
    "        if placement_dict[rel_place][0] == value:\n",
    "            placement_dict[rel_place].append(team)\n",
    "        else:            \n",
    "            placement_dict[team_counter] = [value, team]\n",
    "            rel_place = team_counter\n",
    "        \n",
    "    return placement_dict    \n",
    "\n",
    "def rel_stats_for_year(my_teams_df, year):\n",
    "    \"\"\"Returns a dictionary of dictionaries for this year given my_teams_df.\n",
    "       The return dictionary will take the form of:\n",
    "       team -> {stat -> rel_place}\n",
    "       Example: {'BOS': {'W': 1, 'SO': 3, ...}, 'NYY': {'W': 5, 'SO': 1, ...}, ...}\"\"\"\n",
    "    # Create teams_dict\n",
    "    year_dict = {} # team -> {stat -> rel_place}\n",
    "    for team in pd.unique(teams_df[my_teams_df.yearID == year].teamID.ravel()):\n",
    "        year_dict[team] = {}\n",
    "\n",
    "    for stat in team_stat.keys():\n",
    "        positions = team_positions_for_stat(my_teams_df, year, stat)\n",
    "\n",
    "        for pos in positions.keys():\n",
    "            for i in range(1, len(positions[pos])):\n",
    "                team = positions[pos][i]\n",
    "                year_dict[team]['rel_' + stat] = pos\n",
    "                \n",
    "    return year_dict\n",
    "\n",
    "# Find the relative performance for each statistic as columns to teams_df\n",
    "def rel_team_stats(my_teams_df):\n",
    "    \"\"\"Returns a DataFrame containing the relative statistical performance \n",
    "       for each team for each year.\"\"\"\n",
    "    data = create_data_structure()\n",
    "    \n",
    "    # Iterate through each year and determine the placement of each team for each statistic\n",
    "    for year in pd.unique(my_teams_df.yearID.ravel()):       \n",
    "        year_dict = rel_stats_for_year(my_teams_df, year)\n",
    "            \n",
    "        # Transform teams_dict into data\n",
    "        for team in year_dict.keys():\n",
    "            for col in data.keys():\n",
    "                if col == 'yearID':\n",
    "                    data['yearID'].append(year)\n",
    "                elif col == 'teamID':\n",
    "                    data['teamID'].append(team)\n",
    "                else:\n",
    "                    data[col].append(year_dict[team][col])\n",
    "    \n",
    "    # Create DataFrame    \n",
    "    return pd.DataFrame(data=data)\n",
    "\n",
    "# Merge to existing teams_df\n",
    "rel_teams_df = pd.merge(teams_df, rel_team_stats(teams_df), on=['yearID', 'teamID'])\n",
    "rel_teams_df.to_csv(path_or_buf='rel_teams_df.csv')"
   ]
  },
  {
   "cell_type": "markdown",
   "metadata": {},
   "source": [
    "#### Associate Managers To Teams\n",
    "The provided managers_df associates managers to teams by year, however there may be more than one manager for a team for a given year. This muddles the data because we cannot determine the team statistics attributable to a given manager that did not last the whole year. We will only consider managers that did last the full year. To do this we will determine the teams that had manager switches in a given year and recreate managers_df to not include managers for these team in the year of a manager switch. The result will be refined_managers_df which only contains managers that lasted the full year."
   ]
  },
  {
   "cell_type": "code",
   "execution_count": 3,
   "metadata": {
    "collapsed": false
   },
   "outputs": [],
   "source": [
    "def get_teams_with_inseason_manager_switch():\n",
    "    \"\"\"Returns a dictionary containing the teams that had manager switches for\n",
    "       each year.\n",
    "       Takes the form of:\n",
    "       year -> [team1, team2]\"\"\"\n",
    "    remove_teams_dict = {}\n",
    "    remove_df = managers_df[managers_df.inseason > 1]\n",
    "    for year in pd.unique(remove_df.yearID.ravel()):\n",
    "        remove_teams_dict[year] = []\n",
    "        for team in pd.unique(remove_df[remove_df.yearID == year].teamID.ravel()):\n",
    "            remove_teams_dict[year].append(team)\n",
    "    return remove_teams_dict\n",
    "\n",
    "def complete_season_managers():\n",
    "    \"\"\"Returns a DataFrame that is a subset of managers_df, only containing managers that\n",
    "       lasted the full year.\"\"\"\n",
    "    remove_teams_dict = get_teams_with_inseason_manager_switch()\n",
    "    index_list = []\n",
    "    for i in range(len(managers_df)):\n",
    "        row = managers_df.iloc[i,:]\n",
    "        year = row['yearID'] \n",
    "        team = row['teamID']\n",
    "        if (year not in remove_teams_dict.keys()) or (team not in remove_teams_dict[year]):\n",
    "            index_list.append(i)\n",
    "    \n",
    "    return managers_df.iloc[index_list,:]\n",
    "    \n",
    "refined_managers_df = complete_season_managers()\n",
    "\n",
    "#print get_teams_with_inseason_manager_switch()\n",
    "#print refined_managers_df"
   ]
  },
  {
   "cell_type": "markdown",
   "metadata": {},
   "source": [
    "#### Generate List of Manager Stints\n",
    "In order to eventually determine team transitions, it might be useful to get a sense of the duration a manager worked for a given team. This consolidates multiple seasons with the same team for a given manager (considering that the manager lasted the full season for all of the included years).\n",
    "\n",
    "A manager stint is considered the time period in which a manager remains with the same team for one or more consecutive full seasons."
   ]
  },
  {
   "cell_type": "code",
   "execution_count": 4,
   "metadata": {
    "collapsed": false
   },
   "outputs": [
    {
     "name": "stdout",
     "output_type": "stream",
     "text": [
      "firstYear         1871\n",
      "lastYear          1875\n",
      "numYears             5\n",
      "playerID     wrighha01\n",
      "stintID        5890466\n",
      "teamID             BS1\n",
      "Name: 0, dtype: object\n"
     ]
    }
   ],
   "source": [
    "from random import randint\n",
    "MAX_RAND = 9999999\n",
    "\n",
    "# We want to create a DataFrame with the columns: playerID, firstYear, lastYear, teamID\n",
    "def manager_stints():\n",
    "    \"\"\"Returns a DataFrame which contains the starting and ending year for each manager \n",
    "       for each team the manager was a part of. This will return a DataFrame with the\n",
    "       columns: 'playerID', 'teamID', 'firstYear', 'lastYear', 'numYears'\"\"\"\n",
    "    manager_stints = {'playerID': [], 'teamID': [], 'firstYear': [], 'lastYear': [], \n",
    "                      'numYears': [], 'stintID': []}\n",
    "    \n",
    "    for manager in pd.unique(refined_managers_df.playerID.ravel()):\n",
    "        manager_career_df = refined_managers_df[refined_managers_df.playerID == manager].\\\n",
    "            sort_values('yearID')\n",
    "        starting_year = manager_career_df.iloc[0].yearID\n",
    "        consecutive_team = manager_career_df.iloc[0].teamID\n",
    "        consecutive_years_with_team = 1\n",
    "        for i in range(1, len(manager_career_df)):\n",
    "            year = manager_career_df.iloc[i].yearID\n",
    "            team = manager_career_df.iloc[i].teamID\n",
    "            expected_consecutive_year = starting_year + consecutive_years_with_team\n",
    "            \n",
    "            if (team == consecutive_team) and (year == expected_consecutive_year):\n",
    "                consecutive_years_with_team += 1\n",
    "            else:\n",
    "                manager_stints['playerID'].append(manager)\n",
    "                manager_stints['teamID'].append(consecutive_team)\n",
    "                manager_stints['firstYear'].append(starting_year)\n",
    "                manager_stints['lastYear'].append(expected_consecutive_year - 1)\n",
    "                manager_stints['numYears'].append(consecutive_years_with_team)\n",
    "                manager_stints['stintID'].append(randint(0, MAX_RAND))\n",
    "                starting_year = year\n",
    "                consecutive_team = team\n",
    "                consecutive_years_with_team = 1\n",
    "                \n",
    "        manager_stints['playerID'].append(manager)\n",
    "        manager_stints['teamID'].append(consecutive_team)\n",
    "        manager_stints['firstYear'].append(starting_year)\n",
    "        manager_stints['lastYear'].append(manager_career_df.iloc[len(manager_career_df)-1].yearID)\n",
    "        manager_stints['numYears'].append(consecutive_years_with_team)\n",
    "        manager_stints['stintID'].append(randint(0, MAX_RAND))\n",
    "            \n",
    "    return pd.DataFrame(data=manager_stints)\n",
    "\n",
    "manager_stints_df = manager_stints()\n",
    "print manager_stints_df.iloc[0]"
   ]
  },
  {
   "cell_type": "markdown",
   "metadata": {},
   "source": [
    "#### Get manager transitions\n",
    "We want to get the transitions between consecutive manager stints so that we can compare the relative performance of the manager's team before and after the transition. The result of this step will be a list of managers with their before stint and after stint.\n",
    "\n",
    "We limit the transitions with the following conditions: \n",
    "- There must be a before and after stint (there is not a transition from before a manger's career to the manager's first stint, likewise for the end of the manager's career).\n",
    "- The last year of the first stint and the first year of the second stint must be consecutive years. We are not considering 'gaps' in the manager's career, only consecutive year switches."
   ]
  },
  {
   "cell_type": "code",
   "execution_count": 5,
   "metadata": {
    "collapsed": false
   },
   "outputs": [
    {
     "name": "stdout",
     "output_type": "stream",
     "text": [
      "firstStint       5890466\n",
      "playerID       wrighha01\n",
      "secondStint      5001741\n",
      "Name: 0, dtype: object\n"
     ]
    }
   ],
   "source": [
    "# Based on our question, we will only look at transitions in which a manager transitioned from a \n",
    "# team to a new team in consecutive years.\n",
    "\n",
    "def manager_transitions():\n",
    "    \"\"\"Returns a DataFrame which contains the stint transitions for each manager.\n",
    "       columns: 'playerID', 'firstStint', 'secondStint'\"\"\"\n",
    "    manager_transitions = {'playerID': [], 'firstStint': [], 'secondStint': []}\n",
    "    \n",
    "    for manager in pd.unique(manager_stints_df.playerID.ravel()):\n",
    "        manager_career_df = manager_stints_df[manager_stints_df.playerID == manager].\\\n",
    "            sort_values('firstYear')\n",
    "            \n",
    "        for i in range(1, len(manager_career_df)):\n",
    "            previous_stint_last_year = manager_stints_df.iloc[i-1].lastYear\n",
    "            current_stint_first_year = manager_stints_df.iloc[i].firstYear\n",
    "            \n",
    "            are_consecutive = (previous_stint_last_year + 1) == current_stint_first_year\n",
    "            \n",
    "            if are_consecutive:\n",
    "                manager_transitions['playerID'].append(manager)\n",
    "                manager_transitions['firstStint'].append(manager_stints_df.iloc[i-1].stintID)\n",
    "                manager_transitions['secondStint'].append(manager_stints_df.iloc[i].stintID)\n",
    "            \n",
    "    return pd.DataFrame(data=manager_transitions)\n",
    "\n",
    "manager_transitions_df = manager_transitions()\n",
    "print manager_transitions_df.iloc[0]"
   ]
  },
  {
   "cell_type": "markdown",
   "metadata": {},
   "source": [
    "#### Aggregate Relative Performance of a Stint"
   ]
  },
  {
   "cell_type": "code",
   "execution_count": 21,
   "metadata": {
    "collapsed": false
   },
   "outputs": [
    {
     "name": "stdout",
     "output_type": "stream",
     "text": [
      "{'stintID': 5890466, 'manager': 'wrighha01', 'numYears': 5, 'teamID': 'BS1', 'firstYear': 1871, 'lastYear': 1875}\n"
     ]
    },
    {
     "ename": "ValueError",
     "evalue": "The truth value of a DataFrame is ambiguous. Use a.empty, a.bool(), a.item(), a.any() or a.all().",
     "output_type": "error",
     "traceback": [
      "\u001b[1;31m---------------------------------------------------------------------------\u001b[0m",
      "\u001b[1;31mValueError\u001b[0m                                Traceback (most recent call last)",
      "\u001b[1;32m<ipython-input-21-6e52d22ea724>\u001b[0m in \u001b[0;36m<module>\u001b[1;34m()\u001b[0m\n\u001b[0;32m     27\u001b[0m     \u001b[1;32mreturn\u001b[0m \u001b[0mrel_perf_dict\u001b[0m\u001b[1;33m\u001b[0m\u001b[0m\n\u001b[0;32m     28\u001b[0m \u001b[1;33m\u001b[0m\u001b[0m\n\u001b[1;32m---> 29\u001b[1;33m \u001b[0mrelative_performance_during_stint\u001b[0m\u001b[1;33m(\u001b[0m\u001b[1;36m5890466\u001b[0m\u001b[1;33m)\u001b[0m\u001b[1;33m\u001b[0m\u001b[0m\n\u001b[0m\u001b[0;32m     30\u001b[0m \u001b[1;32mprint\u001b[0m \u001b[0mrange\u001b[0m\u001b[1;33m(\u001b[0m\u001b[1;36m1990\u001b[0m\u001b[1;33m,\u001b[0m\u001b[1;36m1992\u001b[0m\u001b[1;33m+\u001b[0m\u001b[1;36m1\u001b[0m\u001b[1;33m)\u001b[0m\u001b[1;33m\u001b[0m\u001b[0m\n",
      "\u001b[1;32m<ipython-input-21-6e52d22ea724>\u001b[0m in \u001b[0;36mrelative_performance_during_stint\u001b[1;34m(stint)\u001b[0m\n\u001b[0;32m     16\u001b[0m \u001b[1;33m\u001b[0m\u001b[0m\n\u001b[0;32m     17\u001b[0m     \u001b[1;32mfor\u001b[0m \u001b[0myear\u001b[0m \u001b[1;32min\u001b[0m \u001b[0mrange\u001b[0m\u001b[1;33m(\u001b[0m\u001b[0mfirstYear\u001b[0m\u001b[1;33m,\u001b[0m \u001b[0mlastYear\u001b[0m \u001b[1;33m+\u001b[0m \u001b[1;36m1\u001b[0m\u001b[1;33m)\u001b[0m\u001b[1;33m:\u001b[0m\u001b[1;33m\u001b[0m\u001b[0m\n\u001b[1;32m---> 18\u001b[1;33m         \u001b[0mteam_year\u001b[0m \u001b[1;33m=\u001b[0m \u001b[0mrel_teams_df\u001b[0m\u001b[1;33m.\u001b[0m\u001b[0mwhere\u001b[0m\u001b[1;33m(\u001b[0m\u001b[0mrel_teams_df\u001b[0m\u001b[1;33m.\u001b[0m\u001b[0mteamID\u001b[0m \u001b[1;33m==\u001b[0m \u001b[0mteamID\u001b[0m\u001b[1;33m)\u001b[0m \u001b[1;32mand\u001b[0m \u001b[1;33m(\u001b[0m\u001b[0mrel_teams_df\u001b[0m\u001b[1;33m.\u001b[0m\u001b[0myearID\u001b[0m \u001b[1;33m==\u001b[0m \u001b[0myear\u001b[0m\u001b[1;33m)\u001b[0m\u001b[1;33m\u001b[0m\u001b[0m\n\u001b[0m\u001b[0;32m     19\u001b[0m         \u001b[1;32mfor\u001b[0m \u001b[0mstat\u001b[0m \u001b[1;32min\u001b[0m \u001b[0mteam_stat\u001b[0m\u001b[1;33m.\u001b[0m\u001b[0mkeys\u001b[0m\u001b[1;33m(\u001b[0m\u001b[1;33m)\u001b[0m\u001b[1;33m:\u001b[0m\u001b[1;33m\u001b[0m\u001b[0m\n\u001b[0;32m     20\u001b[0m             \u001b[0mstatname\u001b[0m \u001b[1;33m=\u001b[0m \u001b[1;34m'rel_'\u001b[0m \u001b[1;33m+\u001b[0m \u001b[0mstat\u001b[0m\u001b[1;33m\u001b[0m\u001b[0m\n",
      "\u001b[1;32mC:\\Anaconda2\\lib\\site-packages\\pandas\\core\\generic.pyc\u001b[0m in \u001b[0;36m__nonzero__\u001b[1;34m(self)\u001b[0m\n\u001b[0;32m    728\u001b[0m         raise ValueError(\"The truth value of a {0} is ambiguous. \"\n\u001b[0;32m    729\u001b[0m                          \u001b[1;34m\"Use a.empty, a.bool(), a.item(), a.any() or a.all().\"\u001b[0m\u001b[1;33m\u001b[0m\u001b[0m\n\u001b[1;32m--> 730\u001b[1;33m                          .format(self.__class__.__name__))\n\u001b[0m\u001b[0;32m    731\u001b[0m \u001b[1;33m\u001b[0m\u001b[0m\n\u001b[0;32m    732\u001b[0m     \u001b[0m__bool__\u001b[0m \u001b[1;33m=\u001b[0m \u001b[0m__nonzero__\u001b[0m\u001b[1;33m\u001b[0m\u001b[0m\n",
      "\u001b[1;31mValueError\u001b[0m: The truth value of a DataFrame is ambiguous. Use a.empty, a.bool(), a.item(), a.any() or a.all()."
     ]
    }
   ],
   "source": [
    "def relative_performance_during_stint(stint):\n",
    "    \"\"\"Returns a dictionary containing the average relative stats for team during a manager's stint.\n",
    "       Different from a join because we are averaging the results during the stint.\n",
    "       stat -> rel_position\"\"\"\n",
    "    stint_df = manager_stints_df[manager_stints_df.stintID == stint]\n",
    "    \n",
    "    firstYear = stint_df.iloc[0].firstYear\n",
    "    lastYear  = stint_df.iloc[0].lastYear\n",
    "    numYears  = stint_df.iloc[0].numYears\n",
    "    teamID    = stint_df.iloc[0].teamID\n",
    "    manager   = stint_df.iloc[0].playerID\n",
    "    \n",
    "    rel_perf_dict = {'teamID': teamID, 'manager': manager, 'firstYear': firstYear,\n",
    "                     'lastYear': lastYear, 'numYears': numYears, 'stintID': stint}\n",
    "    \n",
    "    for year in range(firstYear, lastYear + 1):\n",
    "        team_year = rel_teams_df[(rel_teams_df.teamID == teamID) and (rel_teams_df.yearID == year)]   \n",
    "        for stat in team_stat.keys():\n",
    "            statname = 'rel_' + stat\n",
    "            rel_perf_dict += team_year.iloc[0][stat]            \n",
    "    \n",
    "    for stat in team_stat.keys():\n",
    "        statname = 'rel_' + stat\n",
    "        rel_perf_dict[statname] /= numYears \n",
    "    \n",
    "    return rel_perf_dict\n",
    "    \n",
    "#relative_performance_during_stint(5890466)\n",
    "print range(1990,1992+1)"
   ]
  },
  {
   "cell_type": "markdown",
   "metadata": {},
   "source": [
    "### Explore\n",
    "Now that we have our data organized, we are ready to start looking for patterns in the data. Given our starting question, we will start by comparing manager transitions by looking at the aggregate relative performance between two stints."
   ]
  },
  {
   "cell_type": "markdown",
   "metadata": {},
   "source": [
    "#### Compare Manager's Before and After Stints"
   ]
  },
  {
   "cell_type": "code",
   "execution_count": null,
   "metadata": {
    "collapsed": true
   },
   "outputs": [],
   "source": []
  },
  {
   "cell_type": "markdown",
   "metadata": {},
   "source": [
    "### Conclusion\n",
    "- answers to questions based on exploration"
   ]
  },
  {
   "cell_type": "markdown",
   "metadata": {},
   "source": [
    "### References\n",
    "\n",
    "Bradbury, J. C. (2006), “Hired to Be Fired: The Publicity Value of Managers,” unpublished\n",
    "manuscript, Kennesaw State University.\n",
    "\n",
    "Lahman, Sean, comp. The Lahman Baseball Database. 2014 ed. Print. [link](http://www.seanlahman.com/baseball-archive/statistics/)\n",
    "\n",
    "Ruggiero, J., Hadley, L., Ruggiero, G., & Knowles, S.. (1997). A Note on the Pythagorean Theorem of Baseball Production. Managerial and Decision Economics, 18(4), 335–342. Retrieved from http://www.jstor.org/stable/3108205\n",
    "\n",
    "Silvers, Randy, and Susmel, Raul. \"Compensation of a Manager: The Case of Major League Baseball.\" University of Houston, 1 Apr. 2014. Web. 14 Jan. 2016. [link](http://www.bauer.uh.edu/rsusmel/Academic/MLB Manager Salaries_1.pdf).\n"
   ]
  },
  {
   "cell_type": "markdown",
   "metadata": {
    "collapsed": true
   },
   "source": [
    "### Appendix\n"
   ]
  },
  {
   "cell_type": "code",
   "execution_count": null,
   "metadata": {
    "collapsed": true
   },
   "outputs": [],
   "source": []
  }
 ],
 "metadata": {
  "kernelspec": {
   "display_name": "Python 2",
   "language": "python",
   "name": "python2"
  },
  "language_info": {
   "codemirror_mode": {
    "name": "ipython",
    "version": 2
   },
   "file_extension": ".py",
   "mimetype": "text/x-python",
   "name": "python",
   "nbconvert_exporter": "python",
   "pygments_lexer": "ipython2",
   "version": "2.7.10"
  }
 },
 "nbformat": 4,
 "nbformat_minor": 0
}
