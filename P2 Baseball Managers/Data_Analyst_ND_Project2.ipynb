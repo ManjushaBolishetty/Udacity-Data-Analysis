{
 "cells": [
  {
   "cell_type": "markdown",
   "metadata": {},
   "source": [
    "### P2: Baseball Managers\n",
    "Thomas Hrabchak <br>\n",
    "February 2015"
   ]
  },
  {
   "cell_type": "markdown",
   "metadata": {},
   "source": [
    "### Introduction\n",
    "Major League Baseball (MLB) is known for its all-stars making multi million dollar salaries and hitting towering homeruns. Often overlooked is the manager, who rarely leaves the duggout except to argue with an umpire, throw his hat, and get ejected from the game. Some managers are well known, have winning teams, and make it into the hall of fame, many others are forgotten by fans. This project will explore the role of the manager on an MLB team in terms of team statistics.\n",
    "\n",
    "Behind the scenes there are many decisions being made by the manager every pitch, such as the positioning of fielders, preparation of a relief pitcher, or if the batter should try to bunt. These decisions do affect the outcome of the game and cumulatively the season. However, the results of managerial decisions manifest themselves in the performance of the players which makes directly measuring the performance of the manager difficult. \n",
    "\n",
    "Additionally, managers have responsibilities that are unrelated to or indirectly related to winning games, such as interacting with the media. This paper will not take into consideration skills which do not result in wins for the team, although extraneous, non-baseball related skills are relevant to assessing the overall performance of managers.\n",
    "\n",
    "#### Background\n",
    "Methods for assessing the performance of baseball managers has been proposed in several academic papers. The most popular method is James's (1986) \"Pythagorean theorem\", in which a manager's performance is assessed using an estimation of expected wins. Additionally, Bradbury (2006) assesses a manager in terms of impact on player performance.\n",
    "\n",
    "In 2014, Randy Silvers and Raul Susmel explored the compensation of managers in their paper \"Compensation of a Manager: The Case of Major League Baseball\". Instead of attempting to directly assess the performance of a manager using a metric derived from baseball statistics, they hypothesized that the economic market of baseball managers would result in the best performing managers (highest team winning percentage and number of playoff appearances) being compensated the highest salaries. The results of their analysis showed that a manager's past performance affects the manager's current salary, but the manager's current salary does not affect the current performance of the manager's team. Silvers and Susmel note that in efficient markets the compensation of a manager is a sufficient measure of his expected productivity but has been shown to be insignificant in predicting any team performance metric. This implies that the market of MLB managers is not efficient.\n",
    "\n",
    "Based on Silvers and Susmel and the previous papers, it seems as if there is still room for improvement in understanding the role of an MLB manager and the impact they have on the performance of their team."
   ]
  },
  {
   "cell_type": "markdown",
   "metadata": {},
   "source": [
    "### Questions\n",
    "There are many possible questions about MLB managers, assesing their performance, and assessing their impact on their team. To limit the scope of this paper, only the following question will be explored:\n",
    "\n",
    "- When a manager transfers teams, does the relative performance of any team statistic from the manager's previous team transfer to the manager's new team?\n",
    "\n",
    "This question is actionable in terms of a statistical approach and isolates the change to the individual manager. We can generalize this question for individual managers over their entire career and then compare managerial careers based on which team statistic they were best at improving on their team.\n",
    "\n",
    "#### Alternative Questions For Future Exploration\n",
    "Below are other questions which I considered addressing in this paper. However they need further refinement in order to be actionable.\n",
    "- How important is having a good manager to the success of a major league baseball team?\n",
    "- Which, if any, team statistics correlate with the winningest managers?\n",
    "- What are characteristics of managers that make it into the hall of fame?\n",
    "- What are characteristics of managers that have short careers?\n",
    "- Are any managers particularly good in the post season?\n",
    "- Do any team statistics correlate with a long managerial career?\n",
    "- Who is the most recent player manager and what were the circumstances?\n",
    "- Are there any trends in the salaries of managers?\n",
    "- Has a 'bad' manager ever won the world series?"
   ]
  },
  {
   "cell_type": "markdown",
   "metadata": {},
   "source": [
    "### Wrangle\n",
    "The data for this project comes from the 2014 edition of The Lahman Baseball Database. We will need to refine the data from this source to better address our question.\n",
    "\n",
    "As an overview, below is a summary of the steps we will take in the data wrangling phase.\n",
    "- Team statistic relative performance, each statistic for each year\n",
    "- Associate manager to team, look only at managers that lasted the full year\n",
    "- Generate table of manager team transfers\n",
    "- Average statistics for previous stint and after stint, statistics for previous year stats, after year stats\n",
    "- Aggregate transfer correlations, using average previous/after statistics, to determine which stats are most correlated to managers"
   ]
  },
  {
   "cell_type": "markdown",
   "metadata": {},
   "source": [
    "#### Import Data\n",
    "This project uses data from 2014 edition of The Lahman Baseball Database, hosted on github."
   ]
  },
  {
   "cell_type": "code",
   "execution_count": 8,
   "metadata": {
    "collapsed": false
   },
   "outputs": [
    {
     "name": "stdout",
     "output_type": "stream",
     "text": [
      "Populating the interactive namespace from numpy and matplotlib\n"
     ]
    }
   ],
   "source": [
    "# Import Libraries and Data\n",
    "import pandas as pd\n",
    "import numpy as np\n",
    "import matplotlib.pyplot as plt\n",
    "%pylab inline\n",
    "\n",
    "awards_managers_df  = pd.read_csv(\"https://raw.githubusercontent.com/thrabchak/Udacity-Data-Analysis/master/P2%20Baseball%20Managers/data/AwardsManagers.csv\")\n",
    "hall_of_fame_df     = pd.read_csv(\"https://raw.githubusercontent.com/thrabchak/Udacity-Data-Analysis/master/P2%20Baseball%20Managers/data/HallOfFame.csv\")\n",
    "managers_df         = pd.read_csv(\"https://raw.githubusercontent.com/thrabchak/Udacity-Data-Analysis/master/P2%20Baseball%20Managers/data/Managers.csv\")\n",
    "master_df           = pd.read_csv(\"https://raw.githubusercontent.com/thrabchak/Udacity-Data-Analysis/master/P2%20Baseball%20Managers/data/Master.csv\")\n",
    "series_post_df      = pd.read_csv(\"https://raw.githubusercontent.com/thrabchak/Udacity-Data-Analysis/master/P2%20Baseball%20Managers/data/SeriesPost.csv\")\n",
    "teams_df            = pd.read_csv(\"https://raw.githubusercontent.com/thrabchak/Udacity-Data-Analysis/master/P2%20Baseball%20Managers/data/Teams.csv\")\n",
    "teams_franchises_df = pd.read_csv(\"https://raw.githubusercontent.com/thrabchak/Udacity-Data-Analysis/master/P2%20Baseball%20Managers/data/TeamsFranchises.csv\")"
   ]
  },
  {
   "cell_type": "code",
   "execution_count": 10,
   "metadata": {
    "collapsed": false
   },
   "outputs": [
    {
     "name": "stdout",
     "output_type": "stream",
     "text": [
      "Awards Managers: \n",
      "Index([u'playerID', u'awardID', u'yearID', u'lgID', u'tie', u'notes'], dtype='object')\n",
      "Hall of Fame: \n",
      "Index([u'playerID', u'yearid', u'votedBy', u'ballots', u'needed', u'votes',\n",
      "       u'inducted', u'category', u'needed_note'],\n",
      "      dtype='object')\n",
      "Managers: \n",
      "Index([u'playerID', u'yearID', u'teamID', u'lgID', u'inseason', u'G', u'W',\n",
      "       u'L', u'rank', u'plyrMgr'],\n",
      "      dtype='object')\n",
      "Master: \n",
      "Index([u'playerID', u'birthYear', u'birthMonth', u'birthDay', u'birthCountry',\n",
      "       u'birthState', u'birthCity', u'deathYear', u'deathMonth', u'deathDay',\n",
      "       u'deathCountry', u'deathState', u'deathCity', u'nameFirst', u'nameLast',\n",
      "       u'nameGiven', u'weight', u'height', u'bats', u'throws', u'debut',\n",
      "       u'finalGame', u'retroID', u'bbrefID'],\n",
      "      dtype='object')\n",
      "Series Post: \n",
      "Index([u'yearID', u'round', u'teamIDwinner', u'lgIDwinner', u'teamIDloser',\n",
      "       u'lgIDloser', u'wins', u'losses', u'ties'],\n",
      "      dtype='object')\n",
      "Teams: \n",
      "Index([u'yearID', u'lgID', u'teamID', u'franchID', u'divID', u'Rank', u'G',\n",
      "       u'Ghome', u'W', u'L', u'DivWin', u'WCWin', u'LgWin', u'WSWin', u'R',\n",
      "       u'AB', u'H', u'2B', u'3B', u'HR', u'BB', u'SO', u'SB', u'CS', u'HBP',\n",
      "       u'SF', u'RA', u'ER', u'ERA', u'CG', u'SHO', u'SV', u'IPouts', u'HA',\n",
      "       u'HRA', u'BBA', u'SOA', u'E', u'DP', u'FP', u'name', u'park',\n",
      "       u'attendance', u'BPF', u'PPF', u'teamIDBR', u'teamIDlahman45',\n",
      "       u'teamIDretro'],\n",
      "      dtype='object')\n",
      "Teams Franchises: \n",
      "Index([u'franchID', u'franchName', u'active', u'NAassoc'], dtype='object')\n"
     ]
    }
   ],
   "source": [
    "# Show columns of the imported DataFrames\n",
    "def print_df_columns(show):\n",
    "    \"\"\"Print columns of imported dataframes if show is True.\"\"\"\n",
    "    if show:\n",
    "        print \"Awards Managers: \"\n",
    "        print awards_managers_df.columns\n",
    "        print \"Hall of Fame: \"\n",
    "        print hall_of_fame_df.columns\n",
    "        print \"Managers: \"\n",
    "        print managers_df.columns\n",
    "        print \"Master: \"\n",
    "        print master_df.columns\n",
    "        print \"Series Post: \"\n",
    "        print series_post_df.columns\n",
    "        print \"Teams: \"\n",
    "        print teams_df.columns\n",
    "        print \"Teams Franchises: \"\n",
    "        print teams_franchises_df.columns\n",
    "    \n",
    "print_df_columns(True)"
   ]
  },
  {
   "cell_type": "markdown",
   "metadata": {},
   "source": [
    "#### Team Statistic Overall Relative Performance\n",
    "We want to create a table containing the relative statistical performance of teams.\n",
    "\n",
    "Steps:\n",
    "- For each year:\n",
    "- - For each statistic:\n",
    "- - - sort team id into list from best to worst\n",
    "- - - for each team, input entry as col into teams db"
   ]
  },
  {
   "cell_type": "code",
   "execution_count": 22,
   "metadata": {
    "collapsed": false
   },
   "outputs": [
    {
     "ename": "IndentationError",
     "evalue": "expected an indented block (<ipython-input-22-4198fe56fc85>, line 57)",
     "output_type": "error",
     "traceback": [
      "\u001b[1;36m  File \u001b[1;32m\"<ipython-input-22-4198fe56fc85>\"\u001b[1;36m, line \u001b[1;32m57\u001b[0m\n\u001b[1;33m    create_rel_team_stats(teams_df)\u001b[0m\n\u001b[1;37m                                   ^\u001b[0m\n\u001b[1;31mIndentationError\u001b[0m\u001b[1;31m:\u001b[0m expected an indented block\n"
     ]
    }
   ],
   "source": [
    "# Create a dictionary to determine how each statistic should be ordered\n",
    "# The key is the statistic and the value is True if it should be ordered from\n",
    "# largest to smallest, False if it should be ordered smallest to largest.\n",
    "team_stat = {\n",
    "    # Overall Statistics\n",
    "    'Rank':   True,  # Position in final standings\n",
    "    \"W\":      True,  # Wins\n",
    "    \"L\":      False, # Losses\n",
    "    \"DivWin\": True,  # Division Winner (Y or N)\n",
    "    \"WCWin\":  True,  # Wild Card Winner (Y or N)\n",
    "    \"LgWin\":  True,  # League Champion(Y or N)\n",
    "    \"WSWin\":  True,  # World Series Winner (Y or N)\n",
    "    \n",
    "    # Batting Statistics\n",
    "    \"R\":      True,  # Runs scored\n",
    "    \"AB\":     True,  # At bats\n",
    "    \"H\":      True,  # Hits\n",
    "    \"2B\":     True,  # Doubles\n",
    "    \"3B\":     True,  # Triples\n",
    "    \"HR\":     True,  # Homeruns\n",
    "    \"BB\":     True,  # Walks\n",
    "    \"SO\":     False, # Strikeouts\n",
    "    \"SB\":     True,  # Stolen bases\n",
    "    \"CS\":     False, # Caught stealing\n",
    "    \"HBP\":    True,  # Batters hit by pitch\n",
    "    \"SF\":     True,  # Sacrifice flies\n",
    "    \n",
    "    # Pitching Statistics\n",
    "    \"RA\":     False, # Opponents run scored\n",
    "    \"ER\":     False, # Earned runs allowed\n",
    "    \"ERA\":    False, # Earned run average\n",
    "    \"CG\":     True,  # Complete games pitched\n",
    "    \"SHO\":    True,  # Shutouts\n",
    "    \"SV\":     True,  # Saves\n",
    "    \"HA\":     False, # Hits allowed\n",
    "    \"HRA\":    False, # Homeruns allowed\n",
    "    \"BBA\":    False, # Walks allowed\n",
    "    \"SOA\":    True,  # Strikeouts by pitchers\n",
    "    \n",
    "    # Fielding Statistics\n",
    "    \"E\":      False, # Errors\n",
    "    \"DP\":     True,  # Double plays\n",
    "    \"FP\":     True   # Fielding percentage\n",
    "}\n",
    "\n",
    "# Append relative performance for each statistic as columns to teams_df\n",
    "def create_rel_team_stats(my_teams_df):\n",
    "    \"\"\"Returns a DataFrame containing the relative statistical performance for each team for each year.\"\"\"\n",
    "    out_df = pd.DataFrame()\n",
    "    \n",
    "    # Get all the yearIDs in the teams dataframe\n",
    "    years = pd.unique(my_teams_df.yearID.ravel())\n",
    "    \n",
    "    for year in years:\n",
    "        for stat in team_stat.keys():\n",
    "            # create an ordered list of teams in this year for this statistic\n",
    "            \n",
    "            for team in teams:\n",
    "            # create an entry in out_df corresponding to the stat\n",
    "            \n",
    "    return out_df\n",
    "\n",
    "create_rel_team_stats(teams_df)"
   ]
  },
  {
   "cell_type": "markdown",
   "metadata": {},
   "source": [
    "### Explore\n",
    "- build intuition\n",
    "- find patterns"
   ]
  },
  {
   "cell_type": "markdown",
   "metadata": {},
   "source": [
    "### Conclusion\n",
    "- answers to questions based on exploration"
   ]
  },
  {
   "cell_type": "markdown",
   "metadata": {},
   "source": [
    "### References\n",
    "\n",
    "Bradbury, J. C. (2006), “Hired to Be Fired: The Publicity Value of Managers,” unpublished\n",
    "manuscript, Kennesaw State University.\n",
    "\n",
    "Lahman, Sean, comp. The Lahman Baseball Database. 2014 ed. Print. [link](http://www.seanlahman.com/baseball-archive/statistics/)\n",
    "\n",
    "Ruggiero, J., Hadley, L., Ruggiero, G., & Knowles, S.. (1997). A Note on the Pythagorean Theorem of Baseball Production. Managerial and Decision Economics, 18(4), 335–342. Retrieved from http://www.jstor.org/stable/3108205\n",
    "\n",
    "Silvers, Randy, and Susmel, Raul. \"Compensation of a Manager: The Case of Major League Baseball.\" University of Houston, 1 Apr. 2014. Web. 14 Jan. 2016. [link](http://www.bauer.uh.edu/rsusmel/Academic/MLB Manager Salaries_1.pdf).\n"
   ]
  },
  {
   "cell_type": "markdown",
   "metadata": {
    "collapsed": true
   },
   "source": [
    "### Appendix\n"
   ]
  },
  {
   "cell_type": "code",
   "execution_count": null,
   "metadata": {
    "collapsed": true
   },
   "outputs": [],
   "source": []
  }
 ],
 "metadata": {
  "kernelspec": {
   "display_name": "Python 2",
   "language": "python",
   "name": "python2"
  },
  "language_info": {
   "codemirror_mode": {
    "name": "ipython",
    "version": 2
   },
   "file_extension": ".py",
   "mimetype": "text/x-python",
   "name": "python",
   "nbconvert_exporter": "python",
   "pygments_lexer": "ipython2",
   "version": "2.7.10"
  }
 },
 "nbformat": 4,
 "nbformat_minor": 0
}
