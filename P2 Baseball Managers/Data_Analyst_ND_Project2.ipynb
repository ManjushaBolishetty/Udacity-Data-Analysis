{
 "cells": [
  {
   "cell_type": "markdown",
   "metadata": {},
   "source": [
    "### P2: Baseball Managers\n",
    "Thomas Hrabchak <br>\n",
    "January 2015"
   ]
  },
  {
   "cell_type": "markdown",
   "metadata": {},
   "source": [
    "### Introduction\n",
    "Major League Baseball (MLB) is known for its all-stars making multi million dollar salaries and hitting towering homeruns. Often overlooked is the manager, who rarely leaves the duggout except to argue with an umpire, throw his hat, and get ejected from the game. Some managers are well known, have winning teams, and make it into the hall of fame, many others are forgotten by fans. This project will explore the role of the manager on an MLB team in terms of team statistics.\n",
    "\n",
    "Behind the scenes there are many decisions being made by the manager every pitch, such as the positioning of fielders, preparation of a relief pitcher, or if the batter should try to bunt. These decisions do affect the outcome of the game and cumulatively the season. However, the results of managerial decisions manifest themselves in the performance of the players, which makes directly measuring the performance of the manager difficult.\n",
    "\n",
    "Additionally, managers have responsibilities that are unrelated or indirectly related to winning games, such as interacting with the media. This paper will not take into consideration skills which do not result in wins for the team, although extraneous skills are relevant to the managerial position and the franchise as a whole. "
   ]
  },
  {
   "cell_type": "markdown",
   "metadata": {},
   "source": [
    "### Questions\n",
    "- How important is having a good manager to the success of a major league baseball team?\n",
    "- Which, if any, team statistics correlate with the winningest managers?\n",
    "- If a manager transfers teams, do any statistics from his previous team move to the new team?\n",
    "- What are characteristics of managers that make it into the hall of fame?\n",
    "- What are characteristics of managers that have short careers?\n",
    "- Are any managers particularly good in the post season?\n",
    "- Do any team statistics correlate with a long managerial career?\n",
    "\n",
    "- Most recent player manager?\n",
    "- Salaries of managers?"
   ]
  },
  {
   "cell_type": "markdown",
   "metadata": {},
   "source": [
    "### Wrangle\n",
    "\n",
    "- how to get the teams that a manager manages?\n",
    "- possibly limit data to managers that serve a full year with one team?\n",
    "\n",
    "- acquisition\n",
    "- data cleaning"
   ]
  },
  {
   "cell_type": "markdown",
   "metadata": {},
   "source": [
    "#### Import Data\n",
    "This project uses data from 2014 edition of The Lahman Baseball Database."
   ]
  },
  {
   "cell_type": "code",
   "execution_count": 16,
   "metadata": {
    "collapsed": false
   },
   "outputs": [
    {
     "name": "stdout",
     "output_type": "stream",
     "text": [
      "Populating the interactive namespace from numpy and matplotlib\n"
     ]
    }
   ],
   "source": [
    "# Import Libraries and Data\n",
    "import pandas as pd\n",
    "import numpy as np\n",
    "import matplotlib.pyplot as plt\n",
    "%pylab inline\n",
    "\n",
    "awards_managers_df  = pd.read_csv(\"https://raw.githubusercontent.com/thrabchak/Udacity-Data-Analysis/master/P2%20Baseball%20Managers/data/AwardsManagers.csv\")\n",
    "hall_of_fame_df     = pd.read_csv(\"https://raw.githubusercontent.com/thrabchak/Udacity-Data-Analysis/master/P2%20Baseball%20Managers/data/HallOfFame.csv\")\n",
    "managers_df         = pd.read_csv(\"https://raw.githubusercontent.com/thrabchak/Udacity-Data-Analysis/master/P2%20Baseball%20Managers/data/Managers.csv\")\n",
    "master_df           = pd.read_csv(\"https://raw.githubusercontent.com/thrabchak/Udacity-Data-Analysis/master/P2%20Baseball%20Managers/data/Master.csv\")\n",
    "series_post_df      = pd.read_csv(\"https://raw.githubusercontent.com/thrabchak/Udacity-Data-Analysis/master/P2%20Baseball%20Managers/data/SeriesPost.csv\")\n",
    "teams_df            = pd.read_csv(\"https://raw.githubusercontent.com/thrabchak/Udacity-Data-Analysis/master/P2%20Baseball%20Managers/data/Teams.csv\")\n",
    "teams_franchises_df = pd.read_csv(\"https://raw.githubusercontent.com/thrabchak/Udacity-Data-Analysis/master/P2%20Baseball%20Managers/data/TeamsFranchises.csv\")\n"
   ]
  },
  {
   "cell_type": "code",
   "execution_count": 14,
   "metadata": {
    "collapsed": false
   },
   "outputs": [
    {
     "name": "stdout",
     "output_type": "stream",
     "text": [
      "Awards Managers: \n",
      "Index([u'playerID', u'awardID', u'yearID', u'lgID', u'tie', u'notes'], dtype='object')\n",
      "Hall of Fame: \n",
      "Index([u'playerID', u'yearid', u'votedBy', u'ballots', u'needed', u'votes',\n",
      "       u'inducted', u'category', u'needed_note'],\n",
      "      dtype='object')\n",
      "Managers: \n",
      "Index([u'playerID', u'yearID', u'teamID', u'lgID', u'inseason', u'G', u'W',\n",
      "       u'L', u'rank', u'plyrMgr'],\n",
      "      dtype='object')\n",
      "Master: \n",
      "Index([u'playerID', u'birthYear', u'birthMonth', u'birthDay', u'birthCountry',\n",
      "       u'birthState', u'birthCity', u'deathYear', u'deathMonth', u'deathDay',\n",
      "       u'deathCountry', u'deathState', u'deathCity', u'nameFirst', u'nameLast',\n",
      "       u'nameGiven', u'weight', u'height', u'bats', u'throws', u'debut',\n",
      "       u'finalGame', u'retroID', u'bbrefID'],\n",
      "      dtype='object')\n",
      "Series Post: \n",
      "Index([u'yearID', u'round', u'teamIDwinner', u'lgIDwinner', u'teamIDloser',\n",
      "       u'lgIDloser', u'wins', u'losses', u'ties'],\n",
      "      dtype='object')\n",
      "Teams: \n",
      "Index([u'yearID', u'lgID', u'teamID', u'franchID', u'divID', u'Rank', u'G',\n",
      "       u'Ghome', u'W', u'L', u'DivWin', u'WCWin', u'LgWin', u'WSWin', u'R',\n",
      "       u'AB', u'H', u'2B', u'3B', u'HR', u'BB', u'SO', u'SB', u'CS', u'HBP',\n",
      "       u'SF', u'RA', u'ER', u'ERA', u'CG', u'SHO', u'SV', u'IPouts', u'HA',\n",
      "       u'HRA', u'BBA', u'SOA', u'E', u'DP', u'FP', u'name', u'park',\n",
      "       u'attendance', u'BPF', u'PPF', u'teamIDBR', u'teamIDlahman45',\n",
      "       u'teamIDretro'],\n",
      "      dtype='object')\n",
      "Teams Franchises: \n",
      "Index([u'franchID', u'franchName', u'active', u'NAassoc'], dtype='object')\n"
     ]
    }
   ],
   "source": [
    "# Show columns of the imported DataFrames\n",
    "print \"Awards Managers: \"\n",
    "print awards_managers_df.columns\n",
    "print \"Hall of Fame: \"\n",
    "print hall_of_fame_df.columns\n",
    "print \"Managers: \"\n",
    "print managers_df.columns\n",
    "print \"Master: \"\n",
    "print master_df.columns\n",
    "print \"Series Post: \"\n",
    "print series_post_df.columns\n",
    "print \"Teams: \"\n",
    "print teams_df.columns\n",
    "print \"Teams Franchises: \"\n",
    "print teams_franchises_df.columns"
   ]
  },
  {
   "cell_type": "markdown",
   "metadata": {},
   "source": [
    "### Explore\n",
    "- build intuition\n",
    "- find patterns"
   ]
  },
  {
   "cell_type": "markdown",
   "metadata": {},
   "source": [
    "### Concluison\n",
    "- answers to questions based on exploration"
   ]
  },
  {
   "cell_type": "markdown",
   "metadata": {},
   "source": [
    "### References\n",
    "\n",
    "Lahman, Sean, comp. The Lahman Baseball Database. 2014 ed. Print. [link](http://www.seanlahman.com/baseball-archive/statistics/)\n",
    "\n",
    "Silvers, Randy, and Raul Susmel. \"Compensation of a Manager: The Case of Major League Baseball.\" University of Houston, 1 Apr. 2014. Web. 14 Jan. 2016. [link](http://www.bauer.uh.edu/rsusmel/Academic/MLB Manager Salaries_1.pdf).\n"
   ]
  },
  {
   "cell_type": "markdown",
   "metadata": {
    "collapsed": true
   },
   "source": [
    "### Appendix\n"
   ]
  },
  {
   "cell_type": "code",
   "execution_count": null,
   "metadata": {
    "collapsed": true
   },
   "outputs": [],
   "source": []
  }
 ],
 "metadata": {
  "kernelspec": {
   "display_name": "Python 2",
   "language": "python",
   "name": "python2"
  },
  "language_info": {
   "codemirror_mode": {
    "name": "ipython",
    "version": 2
   },
   "file_extension": ".py",
   "mimetype": "text/x-python",
   "name": "python",
   "nbconvert_exporter": "python",
   "pygments_lexer": "ipython2",
   "version": "2.7.10"
  }
 },
 "nbformat": 4,
 "nbformat_minor": 0
}
