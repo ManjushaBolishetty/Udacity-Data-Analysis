{
 "cells": [
  {
   "cell_type": "markdown",
   "metadata": {},
   "source": [
    "### P2: Baseball Managers\n",
    "Thomas Hrabchak <br>\n",
    "December 2015\n",
    "\n",
    "### Introduction\n",
    "Major League Baseball (MLB) is known for its all-stars making multi million dollar salaries and hitting towering homeruns. Often overlooked is the manager, who rarely leaves the duggout except to argue with an umpire, throw his hat, and get ejected from the game. Behind the scenes there are many decisions being made by the manager every pitch, such as the positioning of fielders, preparation of a relief pitcher, or if the batter should try to bunt. Some managers are well known, have winning teams, and make it to the hall of fame, many others are forgotten by fans. This project will explore the role of the manager on a Major League Baseball team.\n",
    "\n",
    "### Questions\n",
    "- Which, if any, team statistics correlate with the winningest managers?\n",
    "- If a manager transfers teams, do any statistics from his previous team move to the new team?\n",
    "- What are characteristics of managers that make it into the hall of fame?\n",
    "- What are characteristics of managers that have short careers?\n",
    "- Are any managers particularly good in the post season?\n",
    "- Do any team statistics correlate with a long managerial career?\n",
    "\n",
    "- Most recent player manager?\n",
    "- Salaries of managers?\n",
    "\n",
    "### Wrangle\n",
    "\n",
    "- how to get the teams that a manager manages?\n",
    "- possibly limit data to managers that serve a full year with one team?\n",
    "\n",
    "- acquisition\n",
    "- data cleaning\n",
    "\n",
    "### Explore\n",
    "- build intuition\n",
    "- find patterns\n",
    "\n",
    "### Concluison\n",
    "- answers to questions based on exploration\n",
    "\n",
    "### References\n",
    "\n",
    "### Appendix\n"
   ]
  },
  {
   "cell_type": "code",
   "execution_count": null,
   "metadata": {
    "collapsed": true
   },
   "outputs": [],
   "source": []
  }
 ],
 "metadata": {
  "kernelspec": {
   "display_name": "Python 2",
   "language": "python",
   "name": "python2"
  },
  "language_info": {
   "codemirror_mode": {
    "name": "ipython",
    "version": 2
   },
   "file_extension": ".py",
   "mimetype": "text/x-python",
   "name": "python",
   "nbconvert_exporter": "python",
   "pygments_lexer": "ipython2",
   "version": "2.7.11"
  }
 },
 "nbformat": 4,
 "nbformat_minor": 0
}
