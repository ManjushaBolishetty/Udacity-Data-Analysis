{
 "cells": [
  {
   "cell_type": "markdown",
   "metadata": {},
   "source": [
    "### P2: Baseball Managers\n",
    "Thomas Hrabchak <br>\n",
    "January 2015"
   ]
  },
  {
   "cell_type": "markdown",
   "metadata": {},
   "source": [
    "### Introduction\n",
    "Major League Baseball (MLB) is known for its all-stars making multi million dollar salaries and hitting towering homeruns. Often overlooked is the manager, who rarely leaves the duggout except to argue with an umpire, throw his hat, and get ejected from the game. Some managers are well known, have winning teams, and make it into the hall of fame, many others are forgotten by fans. This project will explore the role of the manager on an MLB team in terms of team statistics.\n",
    "\n",
    "Behind the scenes there are many decisions being made by the manager every pitch, such as the positioning of fielders, preparation of a relief pitcher, or if the batter should try to bunt. These decisions do affect the outcome of the game and cumulatively the season. However, the results of managerial decisions manifest themselves in the performance of the players, which makes directly measuring the performance of the manager difficult.\n",
    "\n",
    "Managers have responsibilities that are unrelated to winning games, such as interacting with the media. This paper will not take into consideration skills which do not result in wins for the team, although extraneous skills are relevant to the managerial position and the franchise as a whole. "
   ]
  },
  {
   "cell_type": "markdown",
   "metadata": {},
   "source": [
    "### Questions\n",
    "- Which, if any, team statistics correlate with the winningest managers?\n",
    "- If a manager transfers teams, do any statistics from his previous team move to the new team?\n",
    "- What are characteristics of managers that make it into the hall of fame?\n",
    "- What are characteristics of managers that have short careers?\n",
    "- Are any managers particularly good in the post season?\n",
    "- Do any team statistics correlate with a long managerial career?\n",
    "\n",
    "- Most recent player manager?\n",
    "- Salaries of managers?"
   ]
  },
  {
   "cell_type": "markdown",
   "metadata": {},
   "source": [
    "### Wrangle\n",
    "\n",
    "- how to get the teams that a manager manages?\n",
    "- possibly limit data to managers that serve a full year with one team?\n",
    "\n",
    "- acquisition\n",
    "- data cleaning"
   ]
  },
  {
   "cell_type": "markdown",
   "metadata": {},
   "source": [
    "### Explore\n",
    "- build intuition\n",
    "- find patterns"
   ]
  },
  {
   "cell_type": "markdown",
   "metadata": {},
   "source": [
    "### Concluison\n",
    "- answers to questions based on exploration"
   ]
  },
  {
   "cell_type": "markdown",
   "metadata": {},
   "source": [
    "### References\n",
    "\n",
    "\n",
    "Silvers, Randy, and Raul Susmel. \"Compensation of a Manager: The Case of Major League Baseball.\" University of Houston, 1 Apr. 2014. Web. 14 Jan. 2016. [link](http://www.bauer.uh.edu/rsusmel/Academic/MLB Manager Salaries_1.pdf).\n"
   ]
  },
  {
   "cell_type": "markdown",
   "metadata": {
    "collapsed": true
   },
   "source": [
    "### Appendix\n"
   ]
  },
  {
   "cell_type": "code",
   "execution_count": null,
   "metadata": {
    "collapsed": true
   },
   "outputs": [],
   "source": []
  }
 ],
 "metadata": {
  "kernelspec": {
   "display_name": "Python 2",
   "language": "python",
   "name": "python2"
  },
  "language_info": {
   "codemirror_mode": {
    "name": "ipython",
    "version": 2
   },
   "file_extension": ".py",
   "mimetype": "text/x-python",
   "name": "python",
   "nbconvert_exporter": "python",
   "pygments_lexer": "ipython2",
   "version": "2.7.10"
  }
 },
 "nbformat": 4,
 "nbformat_minor": 0
}
