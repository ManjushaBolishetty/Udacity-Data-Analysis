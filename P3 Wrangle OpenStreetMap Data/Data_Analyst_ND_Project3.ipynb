{
 "cells": [
  {
   "cell_type": "markdown",
   "metadata": {},
   "source": [
    "## P3: Wrangle OpenStreetMap Data: Yucatán Peninsula\n",
    "Thomas Hrabchak <br>\n",
    "April 2016"
   ]
  },
  {
   "cell_type": "markdown",
   "metadata": {},
   "source": [
    "### Introduction\n",
    "In this project we perform data munging techniques, such as assessing the quality of the data for validity, accuracy, completeness, consistency and uniformity, to clean the OpenStreetMap (OSM) data for the Yucatán Peninsula in Central America. We will then import the cleansed data into a MongoDB instance so that it can be queried.\n",
    "\n",
    "The precise location which we will use is defined by the following longitude/latitude box. You can visualize this region using the [OSM Export Tool](http://www.openstreetmap.org/export#map=7/20.262/-89.363).\n",
    "\n",
    "#### Yucatán Peninsula GPS Location Box\n",
    "- S: 18.521\n",
    "- W: -92.670\n",
    "- N: 23.403\n",
    "- E: -86.440\n"
   ]
  },
  {
   "cell_type": "markdown",
   "metadata": {},
   "source": [
    "### Getting the Data\n",
    "There are two methods for downloading the OSM data used in this project, either manually specifying the OSM data query via an online export tool or running a python script which will download the area specific to this project.\n",
    "\n",
    "#### Manual Online Export ####\n",
    "The precise box of data used for this project is shown above. This creates the following OSM Query: \n",
    "\n",
    "```\n",
    "(node(18.521,-92.670, 23.403,-86.440);<;);out meta;\n",
    "```\n",
    "\n",
    "Copy and paste this query into the [Overpass API Query Form](http://overpass-api.de/query_form.html) and run `Query`. This will download the OSM data which you should then move to this project's folder. Rename the file to `data.xml`.\n",
    "\n",
    "#### Python Script ####\n",
    "I created a python script which will download the OSM data specific to this project. This will put the OSM data in a file named data.xml. Run the following command in the project folder:\n",
    "\n",
    "```\n",
    "python ./download_yucatan_osm_data.py\n",
    "```\n",
    "\n",
    "To download a randomized smaller portion of the area, append `--small`. For example:\n",
    "\n",
    "```\n",
    "python ./download_yucatan_osm_data.py --small\n",
    "```"
   ]
  },
  {
   "cell_type": "markdown",
   "metadata": {},
   "source": [
    "### Importing into a MongoDB Instance"
   ]
  },
  {
   "cell_type": "markdown",
   "metadata": {},
   "source": [
    "#### Initializing the MongoDB instance\n",
    "Follow the instructions on https://docs.mongodb.org/manual/installation/ to install MongoDB on your operating system."
   ]
  },
  {
   "cell_type": "markdown",
   "metadata": {},
   "source": [
    "#### Importing the OSM data\n"
   ]
  },
  {
   "cell_type": "markdown",
   "metadata": {},
   "source": [
    "### Problems Encountered in the Map\n",
    "The problems encountered and their fixes are discussed below.\n",
    "\n",
    "#### Over-abbreviated street names\n",
    "Similar to the lesson 6 case study, I found that there was inconsistency in the abbreviations of street names. I ran the find_abbreviations.py script to determine the different abbreviations that exists in the OSM xml data.\n",
    "\n",
    "I found the following names exists:\n",
    "    - Av\n",
    "    - Ave\n",
    "    - Avienda\n",
    "    - Calle\n",
    "    - Col.\n",
    "    - Av.\n",
    "    - ... (Calle ..)\n",
    "    \n",
    "Using standardize_street_name_abbreviations.py I \n",
    "\n",
    "#### Website Verification\n",
    "A handful of nodes have a website field. I wanted to verify that the referenced websites are still valid, so I created a script ... that verifies that those websites still return data. If a website did not exist, I removed it from the json file.\n",
    "\n",
    "#### Phone Number Format\n",
    "There are a variety of formats for phone numbers, so I decided to standarize them across all nodes. I created a script ... to show the different phone number formats used in the DB."
   ]
  },
  {
   "cell_type": "markdown",
   "metadata": {},
   "source": [
    "### Data Overview\n",
    "\n",
    "#### File Sizes\n",
    "\n",
    "#### Number of Documents\n",
    "\n",
    "#### Number of Nodes\n",
    "\n",
    "#### Number of Ways\n",
    "\n",
    "#### Number of Unique Users\n",
    "\n",
    "#### Top Contributing User\n",
    "\n",
    "#### Number of 1 post users\n"
   ]
  },
  {
   "cell_type": "markdown",
   "metadata": {},
   "source": [
    "### Additional Ideas"
   ]
  },
  {
   "cell_type": "markdown",
   "metadata": {},
   "source": [
    "### Conclusion"
   ]
  },
  {
   "cell_type": "markdown",
   "metadata": {},
   "source": [
    "### References"
   ]
  },
  {
   "cell_type": "markdown",
   "metadata": {},
   "source": [
    "### Appendix"
   ]
  },
  {
   "cell_type": "markdown",
   "metadata": {
    "collapsed": true
   },
   "source": [
    "#### Data Wrangling Lesson 6 Code\n",
    "All lesson 6 code can be found in the lesson 6 folder."
   ]
  },
  {
   "cell_type": "code",
   "execution_count": null,
   "metadata": {
    "collapsed": true
   },
   "outputs": [],
   "source": []
  }
 ],
 "metadata": {
  "kernelspec": {
   "display_name": "Python 2",
   "language": "python2",
   "name": "python2"
  },
  "language_info": {
   "codemirror_mode": {
    "name": "ipython",
    "version": 2
   },
   "file_extension": ".py",
   "mimetype": "text/x-python",
   "name": "python",
   "nbconvert_exporter": "python",
   "pygments_lexer": "ipython2",
   "version": "2.7.11"
  }
 },
 "nbformat": 4,
 "nbformat_minor": 0
}
