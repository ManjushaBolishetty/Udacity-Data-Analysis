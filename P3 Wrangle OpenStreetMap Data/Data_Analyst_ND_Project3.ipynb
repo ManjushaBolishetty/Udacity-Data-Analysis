{
 "cells": [
  {
   "cell_type": "markdown",
   "metadata": {},
   "source": [
    "## P3: Wrangle OpenStreetMap Data: Yucatán Peninsula\n",
    "Thomas Hrabchak <br>\n",
    "April 2016"
   ]
  },
  {
   "cell_type": "markdown",
   "metadata": {},
   "source": [
    "### Introduction\n",
    "In this project we perform data munging techniques, such as assessing the quality of the data for validity, accuracy, completeness, consistency and uniformity, to clean the OpenStreetMap (OSM) data for the Yucatán Peninsula in Central America. We will then import the cleansed data into a MongoDB instance so that it can be queried.\n",
    "\n",
    "The precise location which we will use is defined by the following longitude/latitude box. You can visualize this region using the [OSM Export Tool](http://www.openstreetmap.org/export#map=7/20.262/-89.363).\n",
    "\n",
    "#### GPS Location Box\n",
    "- S: 18.521\n",
    "- W: -92.670\n",
    "- N: 23.403\n",
    "- E: -86.440\n"
   ]
  },
  {
   "cell_type": "markdown",
   "metadata": {},
   "source": [
    "### Getting the Data\n",
    "There are two methods for downloading the OSM data used in this project, either manually specifying the OSM data query via an online export tool or running a python script which will download the area specific to this project.\n",
    "\n",
    "#### Manual Online Export ####\n",
    "The precise box of data used for this project is shown above. This creates the following OSM Query: \n",
    "\n",
    "```\n",
    "(node(18.521,-92.670, 23.403,-86.440);<;);out meta;\n",
    "```\n",
    "\n",
    "Copy and paste this query into the [Overpass API Query Form](http://overpass-api.de/query_form.html) and run `Query`. This will download the OSM data which you should then move to this project's folder. Rename the file to `data.xml`.\n",
    "\n",
    "#### Python Script ####\n",
    "I created a python script which will download the OSM data specific to this project. Run the following command in the project folder:\n",
    "\n",
    "```\n",
    "python ./download_yucatan_osm_data.py\n",
    "```\n",
    "\n",
    "To download a randomized smaller portion of the area, append `--small`. For example:\n",
    "\n",
    "```\n",
    "python ./download_yucatan_osm_data.py --small\n",
    "```"
   ]
  },
  {
   "cell_type": "markdown",
   "metadata": {},
   "source": [
    "### Importing into MongoDB Instance"
   ]
  },
  {
   "cell_type": "markdown",
   "metadata": {},
   "source": [
    "#### Initializing the MongoDB instance"
   ]
  },
  {
   "cell_type": "markdown",
   "metadata": {},
   "source": [
    "#### Importing the OSM data"
   ]
  },
  {
   "cell_type": "markdown",
   "metadata": {},
   "source": [
    "### Problems Encountered in the Map"
   ]
  },
  {
   "cell_type": "markdown",
   "metadata": {},
   "source": [
    "### Data Overview"
   ]
  },
  {
   "cell_type": "markdown",
   "metadata": {},
   "source": [
    "### Additional Ideas"
   ]
  },
  {
   "cell_type": "markdown",
   "metadata": {},
   "source": [
    "### Conclusion"
   ]
  },
  {
   "cell_type": "markdown",
   "metadata": {},
   "source": [
    "### References"
   ]
  },
  {
   "cell_type": "markdown",
   "metadata": {},
   "source": [
    "### Appendix"
   ]
  },
  {
   "cell_type": "code",
   "execution_count": null,
   "metadata": {
    "collapsed": true
   },
   "outputs": [],
   "source": []
  },
  {
   "cell_type": "code",
   "execution_count": null,
   "metadata": {
    "collapsed": true
   },
   "outputs": [],
   "source": []
  }
 ],
 "metadata": {
  "kernelspec": {
   "display_name": "Python 2",
   "language": "python2",
   "name": "python2"
  },
  "language_info": {
   "codemirror_mode": {
    "name": "ipython",
    "version": 2
   },
   "file_extension": ".py",
   "mimetype": "text/x-python",
   "name": "python",
   "nbconvert_exporter": "python",
   "pygments_lexer": "ipython2",
   "version": "2.7.11"
  }
 },
 "nbformat": 4,
 "nbformat_minor": 0
}
